{
 "cells": [
  {
   "cell_type": "markdown",
   "id": "fa69e4da",
   "metadata": {},
   "source": [
    "#### Remarque : \n",
    "    \n",
    "#####  \"TEST\"     \"C'est le même modèle appliqué après un changement effectué sur une variable ou après la création d'une autre.\""
   ]
  },
  {
   "cell_type": "markdown",
   "id": "b25e95c3",
   "metadata": {},
   "source": [
    "# Introduction "
   ]
  },
  {
   "cell_type": "markdown",
   "id": "ae418b2c",
   "metadata": {},
   "source": [
    "#### Le présent rapport a pour objectif de présenter notre participation à un data challenge portant sur la prédiction de la réussite des étudiants au baccalauréat en France. Ce défi reposait sur l'exploitation de données variées, telles que la date et le lieu de naissance de l'étudiant, le centre d'examen, l'établissement scolaire, et d'autres variables, afin de construire un modèle de machine learning efficace pour anticiper les résultats de l'examen.\n",
    "#### Notre démarche s'est appuyée sur une analyse minutieuse des données, incluant des étapes de préparation, de traitement et de visualisation de données, ainsi que l'utilisation d'algorithmes de machine learning adaptés. Nous avons également évalué la performance de notre modèle en utilisant des métriques d'évaluation adaptées, avant d'interpréter les résultats obtenus.\n",
    "#### Ce rapport présente les différentes étapes de notre démarche, ainsi que les résultats obtenus"
   ]
  },
  {
   "cell_type": "markdown",
   "id": "95e39918",
   "metadata": {},
   "source": [
    "### Importation des bibliothèques nécessaires"
   ]
  },
  {
   "cell_type": "code",
   "execution_count": 157,
   "id": "d9257ede",
   "metadata": {},
   "outputs": [],
   "source": [
    "import pandas as pd \n",
    "import numpy as np \n",
    "import matplotlib.pyplot as plt \n",
    "import seaborn as sns\n",
    "import random\n",
    "from datetime import datetime\n",
    "from dateutil import parser\n",
    "import random\n",
    "from sklearn.preprocessing import LabelEncoder\n",
    "\n"
   ]
  },
  {
   "cell_type": "markdown",
   "id": "38996410",
   "metadata": {},
   "source": [
    "### chargement des donnees "
   ]
  },
  {
   "cell_type": "code",
   "execution_count": 16,
   "id": "6c21a5cd",
   "metadata": {},
   "outputs": [],
   "source": [
    "data_train=pd.read_csv(\"C:\\\\Users\\\\USER\\\\Desktop\\\\datachallange\\\\train_set.csv\", encoding='utf-8')\n",
    "data_test=pd.read_csv(\"C:\\\\Users\\\\USER\\\\Desktop\\\\datachallange\\\\test_set.csv\",sep=';')"
   ]
  },
  {
   "cell_type": "code",
   "execution_count": 17,
   "id": "ab4e4349",
   "metadata": {},
   "outputs": [
    {
     "data": {
      "text/html": [
       "<div>\n",
       "<style scoped>\n",
       "    .dataframe tbody tr th:only-of-type {\n",
       "        vertical-align: middle;\n",
       "    }\n",
       "\n",
       "    .dataframe tbody tr th {\n",
       "        vertical-align: top;\n",
       "    }\n",
       "\n",
       "    .dataframe thead th {\n",
       "        text-align: right;\n",
       "    }\n",
       "</style>\n",
       "<table border=\"1\" class=\"dataframe\">\n",
       "  <thead>\n",
       "    <tr style=\"text-align: right;\">\n",
       "      <th></th>\n",
       "      <th>Unnamed: 0</th>\n",
       "      <th>Nom</th>\n",
       "      <th>Serie,x</th>\n",
       "      <th>GroupeAnonymat</th>\n",
       "      <th>LieuNaissance</th>\n",
       "      <th>Centre</th>\n",
       "      <th>Etablissement</th>\n",
       "      <th>moyeneGeneral</th>\n",
       "      <th>Decision</th>\n",
       "      <th>Note1</th>\n",
       "      <th>...</th>\n",
       "      <th>Note3</th>\n",
       "      <th>Note4</th>\n",
       "      <th>Note5</th>\n",
       "      <th>Note6</th>\n",
       "      <th>Note7</th>\n",
       "      <th>Note8</th>\n",
       "      <th>Willaya</th>\n",
       "      <th>moughataa</th>\n",
       "      <th>DateNaissance</th>\n",
       "      <th>ID</th>\n",
       "    </tr>\n",
       "  </thead>\n",
       "  <tbody>\n",
       "    <tr>\n",
       "      <th>0</th>\n",
       "      <td>27634</td>\n",
       "      <td>El Ide Brahim M'Hadi</td>\n",
       "      <td>SN</td>\n",
       "      <td>SN09</td>\n",
       "      <td>Bathet meit</td>\n",
       "      <td>Lycée Jedida</td>\n",
       "      <td>Lycée Jedida</td>\n",
       "      <td>4.601562</td>\n",
       "      <td>Ajourné</td>\n",
       "      <td>1.625</td>\n",
       "      <td>...</td>\n",
       "      <td>5.0</td>\n",
       "      <td>5.5</td>\n",
       "      <td>3.0</td>\n",
       "      <td>7.75</td>\n",
       "      <td>7.5</td>\n",
       "      <td>18.5</td>\n",
       "      <td>Nouakchott 2 (Ouest)</td>\n",
       "      <td>KSAR</td>\n",
       "      <td>12 ديسمبر 1998</td>\n",
       "      <td>ID_27634</td>\n",
       "    </tr>\n",
       "  </tbody>\n",
       "</table>\n",
       "<p>1 rows × 21 columns</p>\n",
       "</div>"
      ],
      "text/plain": [
       "   Unnamed: 0                   Nom Serie,x GroupeAnonymat LieuNaissance  \\\n",
       "0       27634  El Ide Brahim M'Hadi      SN           SN09   Bathet meit   \n",
       "\n",
       "         Centre Etablissement  moyeneGeneral Decision  Note1  ...  Note3  \\\n",
       "0  Lycée Jedida  Lycée Jedida       4.601562  Ajourné  1.625  ...    5.0   \n",
       "\n",
       "   Note4  Note5  Note6  Note7  Note8               Willaya moughataa  \\\n",
       "0    5.5    3.0   7.75    7.5   18.5  Nouakchott 2 (Ouest)      KSAR   \n",
       "\n",
       "    DateNaissance        ID  \n",
       "0  12 ديسمبر 1998  ID_27634  \n",
       "\n",
       "[1 rows x 21 columns]"
      ]
     },
     "execution_count": 17,
     "metadata": {},
     "output_type": "execute_result"
    }
   ],
   "source": [
    "data_train.head(1)"
   ]
  },
  {
   "cell_type": "code",
   "execution_count": 18,
   "id": "02488f07",
   "metadata": {},
   "outputs": [
    {
     "data": {
      "text/html": [
       "<div>\n",
       "<style scoped>\n",
       "    .dataframe tbody tr th:only-of-type {\n",
       "        vertical-align: middle;\n",
       "    }\n",
       "\n",
       "    .dataframe tbody tr th {\n",
       "        vertical-align: top;\n",
       "    }\n",
       "\n",
       "    .dataframe thead th {\n",
       "        text-align: right;\n",
       "    }\n",
       "</style>\n",
       "<table border=\"1\" class=\"dataframe\">\n",
       "  <thead>\n",
       "    <tr style=\"text-align: right;\">\n",
       "      <th></th>\n",
       "      <th>Unnamed: 0</th>\n",
       "      <th>Nom</th>\n",
       "      <th>Serie,x</th>\n",
       "      <th>GroupeAnonymat</th>\n",
       "      <th>LieuNaissance</th>\n",
       "      <th>Centre</th>\n",
       "      <th>Etablissement</th>\n",
       "      <th>Willaya</th>\n",
       "      <th>moughataa</th>\n",
       "      <th>DateNaissance</th>\n",
       "      <th>ID</th>\n",
       "      <th>prediction</th>\n",
       "    </tr>\n",
       "  </thead>\n",
       "  <tbody>\n",
       "    <tr>\n",
       "      <th>0</th>\n",
       "      <td>6</td>\n",
       "      <td>Mohamed Hama Ahmed Lely</td>\n",
       "      <td>SN</td>\n",
       "      <td>SN09</td>\n",
       "      <td>Vassala</td>\n",
       "      <td>Lycée Vassala</td>\n",
       "      <td>Lycée Vassala</td>\n",
       "      <td>Hod Charghy</td>\n",
       "      <td>BASSEKNOU</td>\n",
       "      <td>15 يوليو 2001</td>\n",
       "      <td>ID_6</td>\n",
       "      <td>NaN</td>\n",
       "    </tr>\n",
       "  </tbody>\n",
       "</table>\n",
       "</div>"
      ],
      "text/plain": [
       "   Unnamed: 0                      Nom Serie,x GroupeAnonymat LieuNaissance  \\\n",
       "0           6  Mohamed Hama Ahmed Lely      SN           SN09       Vassala   \n",
       "\n",
       "          Centre  Etablissement      Willaya  moughataa  DateNaissance    ID  \\\n",
       "0  Lycée Vassala  Lycée Vassala  Hod Charghy  BASSEKNOU  15 يوليو 2001  ID_6   \n",
       "\n",
       "   prediction  \n",
       "0         NaN  "
      ]
     },
     "execution_count": 18,
     "metadata": {},
     "output_type": "execute_result"
    }
   ],
   "source": [
    "data_test.head(1)"
   ]
  },
  {
   "cell_type": "markdown",
   "id": "50d5fd2c",
   "metadata": {},
   "source": [
    "# 1. PHASE D'EXPLORATION \n",
    "\n",
    "## Objectif:\n",
    "- Comprendre du mieux possible nos donnees\n",
    "- Developper une premiere strategie de modelisation\n",
    "\n",
    "## Checklist de base \n",
    "#### Annalyse de Forme: \n",
    "- **Variable target**: \"Decision\"\n",
    "- **Lignes et colonnes**: 23894 \\ 21\n",
    "- **Types de variables**: qualitatives:11 et quantitatives:10\n",
    "- **Analyse des valeurs manquantes** : pas des valeurs manquantes dans notre dataset \n",
    "\n",
    "#### Analyse de Fond:\n",
    "- **Visualisation de la target**: \n",
    "   - Ajourné                                  :18966 \n",
    "   - Admis                                    :1973\n",
    "   - Sessionnaire                             :1530 \n",
    "   - Abscent                                  :1068\n",
    "   - Examen annulé à cause du Téléphone       :351\n",
    "   - Examen annulé à cause du comportement    :6\n",
    "   \n",
    "   \n",
    "\n",
    "- **Signification des variables**:\n",
    "- **Relation variables/target**:"
   ]
  },
  {
   "cell_type": "markdown",
   "id": "9c15daee",
   "metadata": {},
   "source": [
    "## Analyse de la Forme des donnees "
   ]
  },
  {
   "cell_type": "markdown",
   "id": "b038d6fd",
   "metadata": {},
   "source": [
    "### Copie de data train "
   ]
  },
  {
   "cell_type": "code",
   "execution_count": 164,
   "id": "ae5ca87f",
   "metadata": {},
   "outputs": [],
   "source": [
    "datatrain=data_train.copy()"
   ]
  },
  {
   "cell_type": "markdown",
   "id": "4e7b3a94",
   "metadata": {},
   "source": [
    "#### Lignes/colonnes"
   ]
  },
  {
   "cell_type": "code",
   "execution_count": 165,
   "id": "a4a18365",
   "metadata": {},
   "outputs": [
    {
     "data": {
      "text/plain": [
       "(23894, 21)"
      ]
     },
     "execution_count": 165,
     "metadata": {},
     "output_type": "execute_result"
    }
   ],
   "source": [
    "datatrain.shape"
   ]
  },
  {
   "cell_type": "markdown",
   "id": "434978d9",
   "metadata": {},
   "source": [
    "#### Types variables"
   ]
  },
  {
   "cell_type": "code",
   "execution_count": 166,
   "id": "5b209258",
   "metadata": {},
   "outputs": [
    {
     "data": {
      "text/plain": [
       "object     11\n",
       "float64     9\n",
       "int64       1\n",
       "dtype: int64"
      ]
     },
     "execution_count": 166,
     "metadata": {},
     "output_type": "execute_result"
    }
   ],
   "source": [
    "datatrain.dtypes.value_counts()"
   ]
  },
  {
   "cell_type": "code",
   "execution_count": 167,
   "id": "3121efc1",
   "metadata": {},
   "outputs": [
    {
     "data": {
      "text/plain": [
       "<AxesSubplot:ylabel='None'>"
      ]
     },
     "execution_count": 167,
     "metadata": {},
     "output_type": "execute_result"
    },
    {
     "data": {
      "image/png": "[encoded data removed]",
      "text/plain": [
       "<Figure size 432x288 with 1 Axes>"
      ]
     },
     "metadata": {},
     "output_type": "display_data"
    }
   ],
   "source": [
    "datatrain.dtypes.value_counts().plot.pie()"
   ]
  },
  {
   "cell_type": "markdown",
   "id": "54707a6a",
   "metadata": {},
   "source": [
    "#### Valeurs manquantes "
   ]
  },
  {
   "cell_type": "code",
   "execution_count": 168,
   "id": "e9284162",
   "metadata": {},
   "outputs": [
    {
     "data": {
      "text/plain": [
       "Unnamed: 0        0\n",
       "Nom               0\n",
       "Serie,x           0\n",
       "GroupeAnonymat    0\n",
       "LieuNaissance     0\n",
       "Centre            0\n",
       "Etablissement     0\n",
       "moyeneGeneral     0\n",
       "Decision          0\n",
       "Note1             0\n",
       "Note2             0\n",
       "Note3             0\n",
       "Note4             0\n",
       "Note5             0\n",
       "Note6             0\n",
       "Note7             0\n",
       "Note8             0\n",
       "Willaya           0\n",
       "moughataa         0\n",
       "DateNaissance     0\n",
       "ID                0\n",
       "dtype: int64"
      ]
     },
     "execution_count": 168,
     "metadata": {},
     "output_type": "execute_result"
    }
   ],
   "source": [
    "datatrain.isna().sum()"
   ]
  },
  {
   "cell_type": "markdown",
   "id": "08df1a2a",
   "metadata": {},
   "source": [
    "##### pas de valeurs manquantes dans data train "
   ]
  },
  {
   "cell_type": "code",
   "execution_count": 169,
   "id": "8b5167a0",
   "metadata": {},
   "outputs": [
    {
     "data": {
      "text/plain": [
       "<AxesSubplot:>"
      ]
     },
     "execution_count": 169,
     "metadata": {},
     "output_type": "execute_result"
    },
    {
     "data": {
      "image/png": "[encoded data removed]",
      "text/plain": [
       "<Figure size 432x288 with 2 Axes>"
      ]
     },
     "metadata": {
      "needs_background": "light"
     },
     "output_type": "display_data"
    }
   ],
   "source": [
    "sns.heatmap(datatrain.isna())"
   ]
  },
  {
   "cell_type": "markdown",
   "id": "71620b9d",
   "metadata": {},
   "source": [
    "##### La variable target contient 6 modalites:"
   ]
  },
  {
   "cell_type": "code",
   "execution_count": 175,
   "id": "9424955a",
   "metadata": {},
   "outputs": [
    {
     "data": {
      "text/plain": [
       "<AxesSubplot:ylabel='Decision'>"
      ]
     },
     "execution_count": 175,
     "metadata": {},
     "output_type": "execute_result"
    },
    {
     "data": {
      "image/png": "[encoded data removed]",
      "text/plain": [
       "<Figure size 432x288 with 1 Axes>"
      ]
     },
     "metadata": {},
     "output_type": "display_data"
    }
   ],
   "source": [
    "datatrain['Decision'].value_counts().plot.pie()"
   ]
  },
  {
   "cell_type": "markdown",
   "id": "e06383ad",
   "metadata": {},
   "source": [
    "### Copie de data test "
   ]
  },
  {
   "cell_type": "code",
   "execution_count": 170,
   "id": "c46093a3",
   "metadata": {},
   "outputs": [],
   "source": [
    "datatest=data_test.copy()"
   ]
  },
  {
   "cell_type": "code",
   "execution_count": 172,
   "id": "796405c8",
   "metadata": {},
   "outputs": [
    {
     "data": {
      "text/plain": [
       "(15930, 12)"
      ]
     },
     "execution_count": 172,
     "metadata": {},
     "output_type": "execute_result"
    }
   ],
   "source": [
    "datatest.shape"
   ]
  },
  {
   "cell_type": "code",
   "execution_count": 173,
   "id": "871b926f",
   "metadata": {},
   "outputs": [
    {
     "data": {
      "text/plain": [
       "<AxesSubplot:ylabel='None'>"
      ]
     },
     "execution_count": 173,
     "metadata": {},
     "output_type": "execute_result"
    },
    {
     "data": {
      "image/png": "[encoded data removed]",
      "text/plain": [
       "<Figure size 432x288 with 1 Axes>"
      ]
     },
     "metadata": {},
     "output_type": "display_data"
    }
   ],
   "source": [
    "datatest.dtypes.value_counts().plot.pie()"
   ]
  },
  {
   "cell_type": "markdown",
   "id": "e577f410",
   "metadata": {},
   "source": [
    "##### pas des valeurs manquantes dans data test \n"
   ]
  },
  {
   "cell_type": "code",
   "execution_count": 174,
   "id": "5b7a0a9c",
   "metadata": {},
   "outputs": [
    {
     "data": {
      "text/plain": [
       "<AxesSubplot:>"
      ]
     },
     "execution_count": 174,
     "metadata": {},
     "output_type": "execute_result"
    },
    {
     "data": {
      "image/png": "[encoded data removed]",
      "text/plain": [
       "<Figure size 432x288 with 2 Axes>"
      ]
     },
     "metadata": {
      "needs_background": "light"
     },
     "output_type": "display_data"
    }
   ],
   "source": [
    "sns.heatmap(datatest.isna())"
   ]
  },
  {
   "cell_type": "code",
   "execution_count": null,
   "id": "11843724",
   "metadata": {},
   "outputs": [],
   "source": []
  },
  {
   "cell_type": "markdown",
   "id": "3c2f6ac0",
   "metadata": {},
   "source": [
    "# 2. PHASE DE PRE-TRAITEMENT "
   ]
  },
  {
   "cell_type": "markdown",
   "id": "032bfb81",
   "metadata": {},
   "source": [
    "#### Copie de dataset"
   ]
  },
  {
   "cell_type": "code",
   "execution_count": 96,
   "id": "5bef4faa",
   "metadata": {},
   "outputs": [],
   "source": [
    "df_train=data_train.copy()\n"
   ]
  },
  {
   "cell_type": "code",
   "execution_count": 97,
   "id": "aedc280c",
   "metadata": {},
   "outputs": [],
   "source": [
    "df_test=data_test.copy()"
   ]
  },
  {
   "cell_type": "code",
   "execution_count": 98,
   "id": "cb634876",
   "metadata": {},
   "outputs": [
    {
     "data": {
      "text/html": [
       "<div>\n",
       "<style scoped>\n",
       "    .dataframe tbody tr th:only-of-type {\n",
       "        vertical-align: middle;\n",
       "    }\n",
       "\n",
       "    .dataframe tbody tr th {\n",
       "        vertical-align: top;\n",
       "    }\n",
       "\n",
       "    .dataframe thead th {\n",
       "        text-align: right;\n",
       "    }\n",
       "</style>\n",
       "<table border=\"1\" class=\"dataframe\">\n",
       "  <thead>\n",
       "    <tr style=\"text-align: right;\">\n",
       "      <th></th>\n",
       "      <th>Nom</th>\n",
       "      <th>Serie,x</th>\n",
       "      <th>GroupeAnonymat</th>\n",
       "      <th>LieuNaissance</th>\n",
       "      <th>Centre</th>\n",
       "      <th>Etablissement</th>\n",
       "      <th>Decision</th>\n",
       "      <th>Willaya</th>\n",
       "      <th>moughataa</th>\n",
       "      <th>DateNaissance</th>\n",
       "      <th>ID</th>\n",
       "    </tr>\n",
       "  </thead>\n",
       "  <tbody>\n",
       "    <tr>\n",
       "      <th>0</th>\n",
       "      <td>El Ide Brahim M'Hadi</td>\n",
       "      <td>SN</td>\n",
       "      <td>SN09</td>\n",
       "      <td>Bathet meit</td>\n",
       "      <td>Lycée Jedida</td>\n",
       "      <td>Lycée Jedida</td>\n",
       "      <td>Ajourné</td>\n",
       "      <td>Nouakchott 2 (Ouest)</td>\n",
       "      <td>KSAR</td>\n",
       "      <td>12 ديسمبر 1998</td>\n",
       "      <td>ID_27634</td>\n",
       "    </tr>\n",
       "    <tr>\n",
       "      <th>1</th>\n",
       "      <td>Mariem Yedaly Afane</td>\n",
       "      <td>LO</td>\n",
       "      <td>LO1</td>\n",
       "      <td>Beir Taouress</td>\n",
       "      <td>Lycée Arafat 2 (A)</td>\n",
       "      <td>Lycée Arafat 2</td>\n",
       "      <td>Ajourné</td>\n",
       "      <td>Nouakchott 3 (Sud)</td>\n",
       "      <td>ARAFAT</td>\n",
       "      <td>26 ديسمبر 1991</td>\n",
       "      <td>ID_36311</td>\n",
       "    </tr>\n",
       "    <tr>\n",
       "      <th>2</th>\n",
       "      <td>Aiche Jiyid Jiyid</td>\n",
       "      <td>LM</td>\n",
       "      <td>LM3</td>\n",
       "      <td>Akjoujt</td>\n",
       "      <td>Lycée Akjoujt</td>\n",
       "      <td>Lycée Akjoujt</td>\n",
       "      <td>Ajourné</td>\n",
       "      <td>Inchiri</td>\n",
       "      <td>AKJOUJT</td>\n",
       "      <td>8 مايو 1995</td>\n",
       "      <td>ID_21059</td>\n",
       "    </tr>\n",
       "    <tr>\n",
       "      <th>3</th>\n",
       "      <td>Ahmed Abd El Ghader Meissa</td>\n",
       "      <td>SN</td>\n",
       "      <td>SN06</td>\n",
       "      <td>Chelkhet Tiyab</td>\n",
       "      <td>Lycée Toujounine 1</td>\n",
       "      <td>Lycée Toujounine 1</td>\n",
       "      <td>Ajourné</td>\n",
       "      <td>Nouakchott 1 (Nord)</td>\n",
       "      <td>TOUJOUNINE</td>\n",
       "      <td>24 avr. 1999</td>\n",
       "      <td>ID_24532</td>\n",
       "    </tr>\n",
       "    <tr>\n",
       "      <th>4</th>\n",
       "      <td>Mariam Abdoulaye Ba</td>\n",
       "      <td>SN</td>\n",
       "      <td>SN03</td>\n",
       "      <td>Aere M'Bar</td>\n",
       "      <td>Lycée Nouadhibou 2</td>\n",
       "      <td>Lycée Wava Nouadhibou</td>\n",
       "      <td>Ajourné</td>\n",
       "      <td>Dakhlet NDB</td>\n",
       "      <td>NOUADHIBOU</td>\n",
       "      <td>10 mai 2001</td>\n",
       "      <td>ID_17861</td>\n",
       "    </tr>\n",
       "  </tbody>\n",
       "</table>\n",
       "</div>"
      ],
      "text/plain": [
       "                          Nom Serie,x GroupeAnonymat   LieuNaissance  \\\n",
       "0        El Ide Brahim M'Hadi      SN           SN09     Bathet meit   \n",
       "1         Mariem Yedaly Afane      LO            LO1   Beir Taouress   \n",
       "2           Aiche Jiyid Jiyid      LM            LM3         Akjoujt   \n",
       "3  Ahmed Abd El Ghader Meissa      SN           SN06  Chelkhet Tiyab   \n",
       "4         Mariam Abdoulaye Ba      SN           SN03      Aere M'Bar   \n",
       "\n",
       "               Centre          Etablissement Decision               Willaya  \\\n",
       "0        Lycée Jedida           Lycée Jedida  Ajourné  Nouakchott 2 (Ouest)   \n",
       "1  Lycée Arafat 2 (A)         Lycée Arafat 2  Ajourné    Nouakchott 3 (Sud)   \n",
       "2       Lycée Akjoujt          Lycée Akjoujt  Ajourné               Inchiri   \n",
       "3  Lycée Toujounine 1     Lycée Toujounine 1  Ajourné   Nouakchott 1 (Nord)   \n",
       "4  Lycée Nouadhibou 2  Lycée Wava Nouadhibou  Ajourné           Dakhlet NDB   \n",
       "\n",
       "    moughataa   DateNaissance        ID  \n",
       "0        KSAR  12 ديسمبر 1998  ID_27634  \n",
       "1      ARAFAT  26 ديسمبر 1991  ID_36311  \n",
       "2     AKJOUJT     8 مايو 1995  ID_21059  \n",
       "3  TOUJOUNINE    24 avr. 1999  ID_24532  \n",
       "4  NOUADHIBOU     10 mai 2001  ID_17861  "
      ]
     },
     "execution_count": 98,
     "metadata": {},
     "output_type": "execute_result"
    }
   ],
   "source": [
    "df_train = df_train.drop(['Unnamed: 0','Note1','Note2','Note3','Note4','Note5','Note6','Note7','Note8','moyeneGeneral'], axis=1)\n",
    "df_train.head()"
   ]
  },
  {
   "cell_type": "code",
   "execution_count": 99,
   "id": "7d302b5c",
   "metadata": {},
   "outputs": [
    {
     "data": {
      "text/html": [
       "<div>\n",
       "<style scoped>\n",
       "    .dataframe tbody tr th:only-of-type {\n",
       "        vertical-align: middle;\n",
       "    }\n",
       "\n",
       "    .dataframe tbody tr th {\n",
       "        vertical-align: top;\n",
       "    }\n",
       "\n",
       "    .dataframe thead th {\n",
       "        text-align: right;\n",
       "    }\n",
       "</style>\n",
       "<table border=\"1\" class=\"dataframe\">\n",
       "  <thead>\n",
       "    <tr style=\"text-align: right;\">\n",
       "      <th></th>\n",
       "      <th>Nom</th>\n",
       "      <th>Serie,x</th>\n",
       "      <th>GroupeAnonymat</th>\n",
       "      <th>LieuNaissance</th>\n",
       "      <th>Centre</th>\n",
       "      <th>Etablissement</th>\n",
       "      <th>Willaya</th>\n",
       "      <th>moughataa</th>\n",
       "      <th>DateNaissance</th>\n",
       "      <th>ID</th>\n",
       "    </tr>\n",
       "  </thead>\n",
       "  <tbody>\n",
       "    <tr>\n",
       "      <th>0</th>\n",
       "      <td>Mohamed Hama Ahmed Lely</td>\n",
       "      <td>SN</td>\n",
       "      <td>SN09</td>\n",
       "      <td>Vassala</td>\n",
       "      <td>Lycée Vassala</td>\n",
       "      <td>Lycée Vassala</td>\n",
       "      <td>Hod Charghy</td>\n",
       "      <td>BASSEKNOU</td>\n",
       "      <td>15 يوليو 2001</td>\n",
       "      <td>ID_6</td>\n",
       "    </tr>\n",
       "    <tr>\n",
       "      <th>1</th>\n",
       "      <td>Fatimatou Mohamed Sid Abbe</td>\n",
       "      <td>SN</td>\n",
       "      <td>SN09</td>\n",
       "      <td>Vassala</td>\n",
       "      <td>Lycée Vassala</td>\n",
       "      <td>Lycée Vassala</td>\n",
       "      <td>Hod Charghy</td>\n",
       "      <td>BASSEKNOU</td>\n",
       "      <td>12 août 1999</td>\n",
       "      <td>ID_15</td>\n",
       "    </tr>\n",
       "    <tr>\n",
       "      <th>2</th>\n",
       "      <td>El Alye Cheikh Ahmed Maihmatt</td>\n",
       "      <td>SN</td>\n",
       "      <td>SN09</td>\n",
       "      <td>Vassala</td>\n",
       "      <td>Lycée Vassala</td>\n",
       "      <td>Lycée Vassala</td>\n",
       "      <td>Hod Charghy</td>\n",
       "      <td>BASSEKNOU</td>\n",
       "      <td>18 sept. 1999</td>\n",
       "      <td>ID_18</td>\n",
       "    </tr>\n",
       "    <tr>\n",
       "      <th>3</th>\n",
       "      <td>Haine Mohamed Lemin Telba</td>\n",
       "      <td>SN</td>\n",
       "      <td>SN09</td>\n",
       "      <td>Vassala</td>\n",
       "      <td>Lycée Vassala</td>\n",
       "      <td>Lycée Vassala</td>\n",
       "      <td>Hod Charghy</td>\n",
       "      <td>BASSEKNOU</td>\n",
       "      <td>24 août 1998</td>\n",
       "      <td>ID_19</td>\n",
       "    </tr>\n",
       "    <tr>\n",
       "      <th>4</th>\n",
       "      <td>Aichata Sid'Ahmed Ahmed Ely</td>\n",
       "      <td>SN</td>\n",
       "      <td>SN09</td>\n",
       "      <td>El Megve</td>\n",
       "      <td>Lycée Vassala</td>\n",
       "      <td>Lycée Vassala</td>\n",
       "      <td>Hod Charghy</td>\n",
       "      <td>BASSEKNOU</td>\n",
       "      <td>31-mai-95</td>\n",
       "      <td>ID_20</td>\n",
       "    </tr>\n",
       "  </tbody>\n",
       "</table>\n",
       "</div>"
      ],
      "text/plain": [
       "                             Nom Serie,x GroupeAnonymat LieuNaissance  \\\n",
       "0        Mohamed Hama Ahmed Lely      SN           SN09       Vassala   \n",
       "1     Fatimatou Mohamed Sid Abbe      SN           SN09       Vassala   \n",
       "2  El Alye Cheikh Ahmed Maihmatt      SN           SN09       Vassala   \n",
       "3      Haine Mohamed Lemin Telba      SN           SN09       Vassala   \n",
       "4    Aichata Sid'Ahmed Ahmed Ely      SN           SN09      El Megve   \n",
       "\n",
       "          Centre  Etablissement      Willaya  moughataa  DateNaissance     ID  \n",
       "0  Lycée Vassala  Lycée Vassala  Hod Charghy  BASSEKNOU  15 يوليو 2001   ID_6  \n",
       "1  Lycée Vassala  Lycée Vassala  Hod Charghy  BASSEKNOU   12 août 1999  ID_15  \n",
       "2  Lycée Vassala  Lycée Vassala  Hod Charghy  BASSEKNOU  18 sept. 1999  ID_18  \n",
       "3  Lycée Vassala  Lycée Vassala  Hod Charghy  BASSEKNOU   24 août 1998  ID_19  \n",
       "4  Lycée Vassala  Lycée Vassala  Hod Charghy  BASSEKNOU      31-mai-95  ID_20  "
      ]
     },
     "execution_count": 99,
     "metadata": {},
     "output_type": "execute_result"
    }
   ],
   "source": [
    "df_test = df_test.drop(['Unnamed: 0','prediction'], axis=1)\n",
    "df_test.head()"
   ]
  },
  {
   "cell_type": "code",
   "execution_count": 100,
   "id": "dd197e1c",
   "metadata": {},
   "outputs": [
    {
     "data": {
      "text/html": [
       "<div>\n",
       "<style scoped>\n",
       "    .dataframe tbody tr th:only-of-type {\n",
       "        vertical-align: middle;\n",
       "    }\n",
       "\n",
       "    .dataframe tbody tr th {\n",
       "        vertical-align: top;\n",
       "    }\n",
       "\n",
       "    .dataframe thead th {\n",
       "        text-align: right;\n",
       "    }\n",
       "</style>\n",
       "<table border=\"1\" class=\"dataframe\">\n",
       "  <thead>\n",
       "    <tr style=\"text-align: right;\">\n",
       "      <th></th>\n",
       "      <th>Id</th>\n",
       "      <th>Predicted</th>\n",
       "    </tr>\n",
       "  </thead>\n",
       "  <tbody>\n",
       "    <tr>\n",
       "      <th>0</th>\n",
       "      <td>ID_12</td>\n",
       "      <td>NaN</td>\n",
       "    </tr>\n",
       "    <tr>\n",
       "      <th>1</th>\n",
       "      <td>ID_14</td>\n",
       "      <td>NaN</td>\n",
       "    </tr>\n",
       "    <tr>\n",
       "      <th>2</th>\n",
       "      <td>ID_15</td>\n",
       "      <td>NaN</td>\n",
       "    </tr>\n",
       "    <tr>\n",
       "      <th>3</th>\n",
       "      <td>ID_22</td>\n",
       "      <td>NaN</td>\n",
       "    </tr>\n",
       "    <tr>\n",
       "      <th>4</th>\n",
       "      <td>ID_23</td>\n",
       "      <td>NaN</td>\n",
       "    </tr>\n",
       "  </tbody>\n",
       "</table>\n",
       "</div>"
      ],
      "text/plain": [
       "      Id  Predicted\n",
       "0  ID_12        NaN\n",
       "1  ID_14        NaN\n",
       "2  ID_15        NaN\n",
       "3  ID_22        NaN\n",
       "4  ID_23        NaN"
      ]
     },
     "execution_count": 100,
     "metadata": {},
     "output_type": "execute_result"
    }
   ],
   "source": [
    "sub=pd.read_csv('C:\\\\Users\\\\USER\\\\Desktop\\\\datachallange\\\\submission_template.csv')\n",
    "sub.head()"
   ]
  },
  {
   "cell_type": "code",
   "execution_count": 101,
   "id": "b63894cb",
   "metadata": {},
   "outputs": [],
   "source": [
    "df_train =df_train.rename(columns={'ID': 'Id'})\n"
   ]
  },
  {
   "cell_type": "code",
   "execution_count": 102,
   "id": "6cf3c8b4",
   "metadata": {},
   "outputs": [],
   "source": [
    "df_test=df_test.rename(columns={'ID': 'Id'})"
   ]
  },
  {
   "cell_type": "code",
   "execution_count": 103,
   "id": "bcc89005",
   "metadata": {},
   "outputs": [],
   "source": [
    "train=df_train.copy()"
   ]
  },
  {
   "cell_type": "code",
   "execution_count": 104,
   "id": "6ac6db10",
   "metadata": {},
   "outputs": [],
   "source": [
    "test=df_test.copy()"
   ]
  },
  {
   "cell_type": "code",
   "execution_count": 105,
   "id": "22a6828b",
   "metadata": {},
   "outputs": [],
   "source": [
    "ids = sub[~sub['Id'].isin(test['Id'])]['Id']\n",
    "rows = train[train['Id'].isin(ids)]\n",
    "test = test.append(rows)\n",
    "test= pd.merge(test, sub[['Id']], on='Id', how='inner')"
   ]
  },
  {
   "cell_type": "code",
   "execution_count": 106,
   "id": "416a7be8",
   "metadata": {},
   "outputs": [],
   "source": [
    "ids = sub[~sub['Id'].isin(test['Id'])]['Id']\n",
    "rows = train[train['Id'].isin(ids)]\n",
    "test = test.append(rows)\n",
    "test= pd.merge(test, sub[['Id']], on='Id', how='inner')"
   ]
  },
  {
   "cell_type": "code",
   "execution_count": 107,
   "id": "61de4134",
   "metadata": {},
   "outputs": [],
   "source": [
    "test=test.drop(['Decision'],axis=1)"
   ]
  },
  {
   "cell_type": "code",
   "execution_count": 108,
   "id": "edb75071",
   "metadata": {},
   "outputs": [],
   "source": [
    "# so we have trainset and testset"
   ]
  },
  {
   "cell_type": "code",
   "execution_count": 109,
   "id": "8f139fd1",
   "metadata": {},
   "outputs": [
    {
     "data": {
      "text/html": [
       "<div>\n",
       "<style scoped>\n",
       "    .dataframe tbody tr th:only-of-type {\n",
       "        vertical-align: middle;\n",
       "    }\n",
       "\n",
       "    .dataframe tbody tr th {\n",
       "        vertical-align: top;\n",
       "    }\n",
       "\n",
       "    .dataframe thead th {\n",
       "        text-align: right;\n",
       "    }\n",
       "</style>\n",
       "<table border=\"1\" class=\"dataframe\">\n",
       "  <thead>\n",
       "    <tr style=\"text-align: right;\">\n",
       "      <th></th>\n",
       "      <th>Nom</th>\n",
       "      <th>Serie,x</th>\n",
       "      <th>GroupeAnonymat</th>\n",
       "      <th>LieuNaissance</th>\n",
       "      <th>Centre</th>\n",
       "      <th>Etablissement</th>\n",
       "      <th>Decision</th>\n",
       "      <th>Willaya</th>\n",
       "      <th>moughataa</th>\n",
       "      <th>DateNaissance</th>\n",
       "      <th>Id</th>\n",
       "    </tr>\n",
       "  </thead>\n",
       "  <tbody>\n",
       "    <tr>\n",
       "      <th>0</th>\n",
       "      <td>El Ide Brahim M'Hadi</td>\n",
       "      <td>SN</td>\n",
       "      <td>SN09</td>\n",
       "      <td>Bathet meit</td>\n",
       "      <td>Lycée Jedida</td>\n",
       "      <td>Lycée Jedida</td>\n",
       "      <td>Ajourné</td>\n",
       "      <td>Nouakchott 2 (Ouest)</td>\n",
       "      <td>KSAR</td>\n",
       "      <td>12 ديسمبر 1998</td>\n",
       "      <td>ID_27634</td>\n",
       "    </tr>\n",
       "  </tbody>\n",
       "</table>\n",
       "</div>"
      ],
      "text/plain": [
       "                    Nom Serie,x GroupeAnonymat LieuNaissance        Centre  \\\n",
       "0  El Ide Brahim M'Hadi      SN           SN09   Bathet meit  Lycée Jedida   \n",
       "\n",
       "  Etablissement Decision               Willaya moughataa   DateNaissance  \\\n",
       "0  Lycée Jedida  Ajourné  Nouakchott 2 (Ouest)      KSAR  12 ديسمبر 1998   \n",
       "\n",
       "         Id  \n",
       "0  ID_27634  "
      ]
     },
     "execution_count": 109,
     "metadata": {},
     "output_type": "execute_result"
    }
   ],
   "source": [
    "train.head(1)"
   ]
  },
  {
   "cell_type": "code",
   "execution_count": 110,
   "id": "0dbf025d",
   "metadata": {},
   "outputs": [
    {
     "data": {
      "text/html": [
       "<div>\n",
       "<style scoped>\n",
       "    .dataframe tbody tr th:only-of-type {\n",
       "        vertical-align: middle;\n",
       "    }\n",
       "\n",
       "    .dataframe tbody tr th {\n",
       "        vertical-align: top;\n",
       "    }\n",
       "\n",
       "    .dataframe thead th {\n",
       "        text-align: right;\n",
       "    }\n",
       "</style>\n",
       "<table border=\"1\" class=\"dataframe\">\n",
       "  <thead>\n",
       "    <tr style=\"text-align: right;\">\n",
       "      <th></th>\n",
       "      <th>Nom</th>\n",
       "      <th>Serie,x</th>\n",
       "      <th>GroupeAnonymat</th>\n",
       "      <th>LieuNaissance</th>\n",
       "      <th>Centre</th>\n",
       "      <th>Etablissement</th>\n",
       "      <th>Willaya</th>\n",
       "      <th>moughataa</th>\n",
       "      <th>DateNaissance</th>\n",
       "      <th>Id</th>\n",
       "    </tr>\n",
       "  </thead>\n",
       "  <tbody>\n",
       "    <tr>\n",
       "      <th>0</th>\n",
       "      <td>Fatimatou Mohamed Sid Abbe</td>\n",
       "      <td>SN</td>\n",
       "      <td>SN09</td>\n",
       "      <td>Vassala</td>\n",
       "      <td>Lycée Vassala</td>\n",
       "      <td>Lycée Vassala</td>\n",
       "      <td>Hod Charghy</td>\n",
       "      <td>BASSEKNOU</td>\n",
       "      <td>12 août 1999</td>\n",
       "      <td>ID_15</td>\n",
       "    </tr>\n",
       "  </tbody>\n",
       "</table>\n",
       "</div>"
      ],
      "text/plain": [
       "                          Nom Serie,x GroupeAnonymat LieuNaissance  \\\n",
       "0  Fatimatou Mohamed Sid Abbe      SN           SN09       Vassala   \n",
       "\n",
       "          Centre  Etablissement      Willaya  moughataa DateNaissance     Id  \n",
       "0  Lycée Vassala  Lycée Vassala  Hod Charghy  BASSEKNOU  12 août 1999  ID_15  "
      ]
     },
     "execution_count": 110,
     "metadata": {},
     "output_type": "execute_result"
    }
   ],
   "source": [
    "test.head(1)"
   ]
  },
  {
   "cell_type": "markdown",
   "id": "06ce3481",
   "metadata": {},
   "source": [
    "#### modifer les mois en arabe : Colonne DateNaissance"
   ]
  },
  {
   "cell_type": "code",
   "execution_count": null,
   "id": "19b57a84",
   "metadata": {},
   "outputs": [],
   "source": [
    "# pour trainset "
   ]
  },
  {
   "cell_type": "code",
   "execution_count": 113,
   "id": "86ad6528",
   "metadata": {},
   "outputs": [],
   "source": [
    "remplacements= {'janv.' : 'Jan',\n",
    "'févr.' : 'Feb',\n",
    "'mars' : 'Mar',\n",
    "'avr.' : 'Apr',\n",
    "'mai' : 'May',\n",
    "'juin' : 'Jun',\n",
    "'juil.' : 'Jul',\n",
    "'août' : 'Aug',\n",
    "'sept.' : 'Sep',\n",
    "'oct.' : 'Oct',\n",
    "'nov.' : 'Nov',\n",
    "'déc.' : 'Dec'}\n",
    "\n",
    "# remplacements = {\"يناير\": 'janv.',\n",
    "#               \"فبراير\": 'févr.',\n",
    "#               \"مارس\": 'mars',\n",
    "#               'أبريل': 'avr.',\n",
    "#               \"مايو\": 'mai',\n",
    "#               'يونيو': 'juin',\n",
    "#               'يوليو': 'juil.',\n",
    "#               'أغسطس': 'août',\n",
    "#               'سبتمبر': 'sept.',\n",
    "#               'أكتوبر': 'oct.',\n",
    "#               'نوفمبر': 'nov.',\n",
    "#               \"ديسمبر\": 'déc.'}\n",
    "\n",
    "\n",
    "# Remplacer les mois incorrects par les mois corrects\n",
    "train['DateNaissance'] = train['DateNaissance'].replace(remplacements, regex=True)"
   ]
  },
  {
   "cell_type": "code",
   "execution_count": 51,
   "id": "d3ba0153",
   "metadata": {},
   "outputs": [],
   "source": [
    "# pour test set "
   ]
  },
  {
   "cell_type": "code",
   "execution_count": 116,
   "id": "8c713be9",
   "metadata": {},
   "outputs": [],
   "source": [
    "remplacements= {'janv.' : 'Jan',\n",
    "'févr.' : 'Feb',\n",
    "'mars' : 'Mar',\n",
    "'avr.' : 'Apr',\n",
    "'mai' : 'May',\n",
    "'juin' : 'Jun',\n",
    "'juil.' : 'Jul',\n",
    "'août' : 'Aug',\n",
    "'sept.' : 'Sep',\n",
    "'oct.' : 'Oct',\n",
    "'nov.' : 'Nov',\n",
    "'déc.' : 'Dec'}\n",
    "\n",
    "# remplacements = {\"يناير\": 'janv.',\n",
    "#               \"فبراير\": 'févr.',\n",
    "#               \"مارس\": 'mars',\n",
    "#               'أبريل': 'avr.',\n",
    "#               \"مايو\": 'mai',\n",
    "#               'يونيو': 'juin',\n",
    "#               'يوليو': 'juil.',\n",
    "#               'أغسطس': 'août',\n",
    "#               'سبتمبر': 'sept.',\n",
    "#               'أكتوبر': 'oct.',\n",
    "#               'نوفمبر': 'nov.',\n",
    "#               \"ديسمبر\": 'déc.'}\n",
    "\n",
    "\n",
    "# Remplacer les mois incorrects par les mois corrects\n",
    "test['DateNaissance'] = test['DateNaissance'].replace(remplacements, regex=True)"
   ]
  },
  {
   "cell_type": "code",
   "execution_count": 117,
   "id": "f4313529",
   "metadata": {},
   "outputs": [],
   "source": [
    "def convert_date_format(date_str):\n",
    "    try:\n",
    "        # Essayer de parser la date avec la bibliothèque dateutil\n",
    "        date = parser.parse(date_str, dayfirst=True)\n",
    "        # Convertir la date en format \"28-jun-2003\"\n",
    "        return date.strftime('%d-%b-%Y').lower()\n",
    "    except:\n",
    "        # Si la date ne peut pas être parsée avec dateutil, la laisser telle quelle\n",
    "        return date_str.lower()\n",
    "\n",
    "\n",
    "test[\"DateNaissance\"] = test[\"DateNaissance\"].apply(convert_date_format)\n"
   ]
  },
  {
   "cell_type": "code",
   "execution_count": null,
   "id": "c7f14087",
   "metadata": {},
   "outputs": [],
   "source": [
    "# d=list()\n",
    "# for i, row in test.iterrows():\n",
    "#     mois_str = row['DateNaissance'].split(' ')[0]\n",
    "#     d.append(mois_str)\n",
    "# unique_values = set(d)\n",
    "\n",
    "# for value in unique_values:\n",
    "#     print(value) "
   ]
  },
  {
   "cell_type": "code",
   "execution_count": null,
   "id": "468d3e2a",
   "metadata": {},
   "outputs": [],
   "source": []
  },
  {
   "cell_type": "markdown",
   "id": "952c5bac",
   "metadata": {},
   "source": [
    "#### Définir une fonction pour vérifier et corriger la date de naissance"
   ]
  },
  {
   "cell_type": "code",
   "execution_count": 118,
   "id": "659fd9ae",
   "metadata": {},
   "outputs": [],
   "source": [
    "def check_and_fix_date(date_str):\n",
    "    try:\n",
    "        date = datetime.strptime(date_str, \"%d-%b-%Y\")\n",
    "    except ValueError:\n",
    "        # La date n'est pas dans le bon format\n",
    "        date_parts = date_str.split(\"-\")\n",
    "        # Vérifier si la date contient les trois parties\n",
    "        if len(date_parts) != 3:\n",
    "            # Si la date ne contient pas les trois parties, retourner NaN\n",
    "            return pd.NaT\n",
    "        # Corriger le jour ou le mois manquant avec une valeur aléatoire entre 1 et 31/12\n",
    "        day = int(date_parts[0]) if date_parts[0] else random.randint(1, 31)\n",
    "        month = datetime.strptime(date_parts[1], \"%b\").month if date_parts[1] else random.randint(1, 12)\n",
    "        year = int(date_parts[2]) if date_parts[2] else random.randint(1900, 2022)\n",
    "        # Construire la date corrigée\n",
    "        try:\n",
    "            date = datetime(year=year, month=month, day=day)\n",
    "        except ValueError:\n",
    "            # Si la date est toujours invalide, retourner NaN\n",
    "            return pd.NaT\n",
    "    return date\n",
    "\n",
    "# Appliquer la fonction à la colonne \"DateNaissance\" de la dataframe\n",
    "test[\"DateNaissance\"] = test[\"DateNaissance\"].apply(check_and_fix_date)"
   ]
  },
  {
   "cell_type": "code",
   "execution_count": null,
   "id": "f85cdc0c",
   "metadata": {},
   "outputs": [],
   "source": []
  },
  {
   "cell_type": "code",
   "execution_count": 119,
   "id": "e2068619",
   "metadata": {},
   "outputs": [
    {
     "data": {
      "text/html": [
       "<div>\n",
       "<style scoped>\n",
       "    .dataframe tbody tr th:only-of-type {\n",
       "        vertical-align: middle;\n",
       "    }\n",
       "\n",
       "    .dataframe tbody tr th {\n",
       "        vertical-align: top;\n",
       "    }\n",
       "\n",
       "    .dataframe thead th {\n",
       "        text-align: right;\n",
       "    }\n",
       "</style>\n",
       "<table border=\"1\" class=\"dataframe\">\n",
       "  <thead>\n",
       "    <tr style=\"text-align: right;\">\n",
       "      <th></th>\n",
       "      <th>Nom</th>\n",
       "      <th>Serie,x</th>\n",
       "      <th>GroupeAnonymat</th>\n",
       "      <th>LieuNaissance</th>\n",
       "      <th>Centre</th>\n",
       "      <th>Etablissement</th>\n",
       "      <th>Decision</th>\n",
       "      <th>Willaya</th>\n",
       "      <th>moughataa</th>\n",
       "      <th>DateNaissance</th>\n",
       "      <th>Id</th>\n",
       "    </tr>\n",
       "  </thead>\n",
       "  <tbody>\n",
       "    <tr>\n",
       "      <th>0</th>\n",
       "      <td>El Ide Brahim M'Hadi</td>\n",
       "      <td>SN</td>\n",
       "      <td>SN09</td>\n",
       "      <td>Bathet meit</td>\n",
       "      <td>Lycée Jedida</td>\n",
       "      <td>Lycée Jedida</td>\n",
       "      <td>Ajourné</td>\n",
       "      <td>Nouakchott 2 (Ouest)</td>\n",
       "      <td>KSAR</td>\n",
       "      <td>12 Dec 1998</td>\n",
       "      <td>ID_27634</td>\n",
       "    </tr>\n",
       "  </tbody>\n",
       "</table>\n",
       "</div>"
      ],
      "text/plain": [
       "                    Nom Serie,x GroupeAnonymat LieuNaissance        Centre  \\\n",
       "0  El Ide Brahim M'Hadi      SN           SN09   Bathet meit  Lycée Jedida   \n",
       "\n",
       "  Etablissement Decision               Willaya moughataa DateNaissance  \\\n",
       "0  Lycée Jedida  Ajourné  Nouakchott 2 (Ouest)      KSAR   12 Dec 1998   \n",
       "\n",
       "         Id  \n",
       "0  ID_27634  "
      ]
     },
     "execution_count": 119,
     "metadata": {},
     "output_type": "execute_result"
    }
   ],
   "source": [
    "train.head(1)"
   ]
  },
  {
   "cell_type": "code",
   "execution_count": 120,
   "id": "748c79ca",
   "metadata": {},
   "outputs": [
    {
     "data": {
      "text/html": [
       "<div>\n",
       "<style scoped>\n",
       "    .dataframe tbody tr th:only-of-type {\n",
       "        vertical-align: middle;\n",
       "    }\n",
       "\n",
       "    .dataframe tbody tr th {\n",
       "        vertical-align: top;\n",
       "    }\n",
       "\n",
       "    .dataframe thead th {\n",
       "        text-align: right;\n",
       "    }\n",
       "</style>\n",
       "<table border=\"1\" class=\"dataframe\">\n",
       "  <thead>\n",
       "    <tr style=\"text-align: right;\">\n",
       "      <th></th>\n",
       "      <th>Nom</th>\n",
       "      <th>Serie,x</th>\n",
       "      <th>GroupeAnonymat</th>\n",
       "      <th>LieuNaissance</th>\n",
       "      <th>Centre</th>\n",
       "      <th>Etablissement</th>\n",
       "      <th>Willaya</th>\n",
       "      <th>moughataa</th>\n",
       "      <th>DateNaissance</th>\n",
       "      <th>Id</th>\n",
       "    </tr>\n",
       "  </thead>\n",
       "  <tbody>\n",
       "    <tr>\n",
       "      <th>0</th>\n",
       "      <td>Fatimatou Mohamed Sid Abbe</td>\n",
       "      <td>SN</td>\n",
       "      <td>SN09</td>\n",
       "      <td>Vassala</td>\n",
       "      <td>Lycée Vassala</td>\n",
       "      <td>Lycée Vassala</td>\n",
       "      <td>Hod Charghy</td>\n",
       "      <td>BASSEKNOU</td>\n",
       "      <td>1999-08-12</td>\n",
       "      <td>ID_15</td>\n",
       "    </tr>\n",
       "  </tbody>\n",
       "</table>\n",
       "</div>"
      ],
      "text/plain": [
       "                          Nom Serie,x GroupeAnonymat LieuNaissance  \\\n",
       "0  Fatimatou Mohamed Sid Abbe      SN           SN09       Vassala   \n",
       "\n",
       "          Centre  Etablissement      Willaya  moughataa DateNaissance     Id  \n",
       "0  Lycée Vassala  Lycée Vassala  Hod Charghy  BASSEKNOU    1999-08-12  ID_15  "
      ]
     },
     "execution_count": 120,
     "metadata": {},
     "output_type": "execute_result"
    }
   ],
   "source": [
    "test.head(1)"
   ]
  },
  {
   "cell_type": "markdown",
   "id": "76a2c160",
   "metadata": {},
   "source": [
    "### La creation d'une nouvelle variable \"age\""
   ]
  },
  {
   "cell_type": "code",
   "execution_count": 121,
   "id": "024b4d22",
   "metadata": {},
   "outputs": [],
   "source": [
    "# Définir la date à laquelle nous voulons calculer l'âge\n",
    "year_to_calculate = 2021\n",
    "\n",
    "# Définir une fonction pour calculer l'âge à partir d'une date de naissance\n",
    "def calculate_age(dob_str):\n",
    "    dob = datetime.strptime(dob_str, '%d %b %Y')\n",
    "    now = datetime.now()\n",
    "    age = year_to_calculate - dob.year\n",
    "    if dob.month > now.month or (dob.month == now.month and dob.day > now.day):\n",
    "        age -= 1\n",
    "    return age\n",
    "\n",
    "# Ajouter une colonne \"Age\" à la dataframe train, calculée en appliquant la fonction calculate_age à chaque date de naissance\n",
    "train[\"Age\"] = train[\"DateNaissance\"].apply(calculate_age)"
   ]
  },
  {
   "cell_type": "code",
   "execution_count": 122,
   "id": "edd3d7ce",
   "metadata": {},
   "outputs": [
    {
     "data": {
      "text/html": [
       "<div>\n",
       "<style scoped>\n",
       "    .dataframe tbody tr th:only-of-type {\n",
       "        vertical-align: middle;\n",
       "    }\n",
       "\n",
       "    .dataframe tbody tr th {\n",
       "        vertical-align: top;\n",
       "    }\n",
       "\n",
       "    .dataframe thead th {\n",
       "        text-align: right;\n",
       "    }\n",
       "</style>\n",
       "<table border=\"1\" class=\"dataframe\">\n",
       "  <thead>\n",
       "    <tr style=\"text-align: right;\">\n",
       "      <th></th>\n",
       "      <th>Nom</th>\n",
       "      <th>Serie,x</th>\n",
       "      <th>GroupeAnonymat</th>\n",
       "      <th>LieuNaissance</th>\n",
       "      <th>Centre</th>\n",
       "      <th>Etablissement</th>\n",
       "      <th>Decision</th>\n",
       "      <th>Willaya</th>\n",
       "      <th>moughataa</th>\n",
       "      <th>DateNaissance</th>\n",
       "      <th>Id</th>\n",
       "      <th>Age</th>\n",
       "    </tr>\n",
       "  </thead>\n",
       "  <tbody>\n",
       "    <tr>\n",
       "      <th>0</th>\n",
       "      <td>El Ide Brahim M'Hadi</td>\n",
       "      <td>SN</td>\n",
       "      <td>SN09</td>\n",
       "      <td>Bathet meit</td>\n",
       "      <td>Lycée Jedida</td>\n",
       "      <td>Lycée Jedida</td>\n",
       "      <td>Ajourné</td>\n",
       "      <td>Nouakchott 2 (Ouest)</td>\n",
       "      <td>KSAR</td>\n",
       "      <td>12 Dec 1998</td>\n",
       "      <td>ID_27634</td>\n",
       "      <td>22</td>\n",
       "    </tr>\n",
       "  </tbody>\n",
       "</table>\n",
       "</div>"
      ],
      "text/plain": [
       "                    Nom Serie,x GroupeAnonymat LieuNaissance        Centre  \\\n",
       "0  El Ide Brahim M'Hadi      SN           SN09   Bathet meit  Lycée Jedida   \n",
       "\n",
       "  Etablissement Decision               Willaya moughataa DateNaissance  \\\n",
       "0  Lycée Jedida  Ajourné  Nouakchott 2 (Ouest)      KSAR   12 Dec 1998   \n",
       "\n",
       "         Id  Age  \n",
       "0  ID_27634   22  "
      ]
     },
     "execution_count": 122,
     "metadata": {},
     "output_type": "execute_result"
    }
   ],
   "source": [
    "train.head(1)"
   ]
  },
  {
   "cell_type": "code",
   "execution_count": null,
   "id": "2b7a5f90",
   "metadata": {},
   "outputs": [],
   "source": []
  },
  {
   "cell_type": "code",
   "execution_count": 124,
   "id": "2a29aba9",
   "metadata": {},
   "outputs": [],
   "source": [
    "# Définir la date à laquelle nous voulons calculer l'âge\n",
    "year_to_calculate = 2021\n",
    "\n",
    "# Définir une fonction pour calculer l'âge à partir d'une date de naissance\n",
    "def calculate_age(dob_str):\n",
    "    dob = dob_str.to_pydatetime()\n",
    "    age = year_to_calculate - dob.year\n",
    "    if dob.month > datetime.now().month or (dob.month == datetime.now().month and dob.day > datetime.now().day):\n",
    "        age -= 1\n",
    "    return age\n",
    "\n",
    "# Ajouter une colonne \"Age\" à la dataframe test, calculée en appliquant la fonction calculate_age à chaque date de naissance\n",
    "test['DateNaissance'] = pd.to_datetime(test['DateNaissance'], errors='coerce') # Convertir les objets Timestamp en chaînes de caractères\n",
    "test['DateNaissance'] = test['DateNaissance'].dt.strftime('%d-%b-%Y') # Convertir les objets Timestamp en chaînes de caractères\n",
    "test['DateNaissance'] =test['DateNaissance'].apply(lambda x: datetime.strptime(x, '%d-%b-%Y') if pd.notnull(x) else None) # Convertir les chaînes de caractères en objets datetime\n",
    "test['DateNaissance'] = test['DateNaissance'].apply(lambda x: x.replace(day=random.raandint(1,28)) if x and pd.isnull(x.day) else x) # Remplacer le jour manquant par une valeur aléatoire entre 1 et 28\n",
    "test['DateNaissance'] = test['DateNaissance'].apply(lambda x: x.replace(month=random.randint(1,12)) if x and pd.isnull(x.month) else x) # Remplacer le mois manquant par une valeur aléatoire entre 1 et 12\n",
    "test['DateNaissance'] = test['DateNaissance'].apply(lambda x: x.replace(year=random.randint(1900,year_to_calculate-1)) if x and pd.isnull(x.year) else x) # Remplacer l'année manquante par une valeur aléatoire entre 1900 et l'année à calculer moins un an\n",
    "test[\"Age\"] = test[\"DateNaissance\"].apply(calculate_age)"
   ]
  },
  {
   "cell_type": "code",
   "execution_count": 125,
   "id": "0ac76181",
   "metadata": {},
   "outputs": [
    {
     "data": {
      "text/html": [
       "<div>\n",
       "<style scoped>\n",
       "    .dataframe tbody tr th:only-of-type {\n",
       "        vertical-align: middle;\n",
       "    }\n",
       "\n",
       "    .dataframe tbody tr th {\n",
       "        vertical-align: top;\n",
       "    }\n",
       "\n",
       "    .dataframe thead th {\n",
       "        text-align: right;\n",
       "    }\n",
       "</style>\n",
       "<table border=\"1\" class=\"dataframe\">\n",
       "  <thead>\n",
       "    <tr style=\"text-align: right;\">\n",
       "      <th></th>\n",
       "      <th>Nom</th>\n",
       "      <th>Serie,x</th>\n",
       "      <th>GroupeAnonymat</th>\n",
       "      <th>LieuNaissance</th>\n",
       "      <th>Centre</th>\n",
       "      <th>Etablissement</th>\n",
       "      <th>Willaya</th>\n",
       "      <th>moughataa</th>\n",
       "      <th>DateNaissance</th>\n",
       "      <th>Id</th>\n",
       "      <th>Age</th>\n",
       "    </tr>\n",
       "  </thead>\n",
       "  <tbody>\n",
       "    <tr>\n",
       "      <th>0</th>\n",
       "      <td>Fatimatou Mohamed Sid Abbe</td>\n",
       "      <td>SN</td>\n",
       "      <td>SN09</td>\n",
       "      <td>Vassala</td>\n",
       "      <td>Lycée Vassala</td>\n",
       "      <td>Lycée Vassala</td>\n",
       "      <td>Hod Charghy</td>\n",
       "      <td>BASSEKNOU</td>\n",
       "      <td>1999-08-12</td>\n",
       "      <td>ID_15</td>\n",
       "      <td>21</td>\n",
       "    </tr>\n",
       "  </tbody>\n",
       "</table>\n",
       "</div>"
      ],
      "text/plain": [
       "                          Nom Serie,x GroupeAnonymat LieuNaissance  \\\n",
       "0  Fatimatou Mohamed Sid Abbe      SN           SN09       Vassala   \n",
       "\n",
       "          Centre  Etablissement      Willaya  moughataa DateNaissance     Id  \\\n",
       "0  Lycée Vassala  Lycée Vassala  Hod Charghy  BASSEKNOU    1999-08-12  ID_15   \n",
       "\n",
       "   Age  \n",
       "0   21  "
      ]
     },
     "execution_count": 125,
     "metadata": {},
     "output_type": "execute_result"
    }
   ],
   "source": [
    "test.head(1)"
   ]
  },
  {
   "cell_type": "code",
   "execution_count": 149,
   "id": "f4a08f73",
   "metadata": {},
   "outputs": [],
   "source": [
    "train=train.drop(['DateNaissance'],axis=1)"
   ]
  },
  {
   "cell_type": "code",
   "execution_count": 140,
   "id": "a097c890",
   "metadata": {},
   "outputs": [],
   "source": [
    "test=test.drop(['DateNaissance'],axis=1)"
   ]
  },
  {
   "cell_type": "code",
   "execution_count": 150,
   "id": "042eceb5",
   "metadata": {},
   "outputs": [],
   "source": [
    "d_train=train.copy()"
   ]
  },
  {
   "cell_type": "code",
   "execution_count": 142,
   "id": "89e1eaf8",
   "metadata": {},
   "outputs": [],
   "source": [
    "d_test=test.copy()"
   ]
  },
  {
   "cell_type": "code",
   "execution_count": 151,
   "id": "fab2d825",
   "metadata": {},
   "outputs": [],
   "source": [
    "d_train['Decision'] = d_train['Decision'].apply (lambda x: 1 if x == 'Admis' else x==0)"
   ]
  },
  {
   "cell_type": "markdown",
   "id": "81a55bd0",
   "metadata": {},
   "source": [
    "#### Encoder les variables Categorielles "
   ]
  },
  {
   "cell_type": "code",
   "execution_count": 152,
   "id": "41d635e9",
   "metadata": {},
   "outputs": [],
   "source": [
    "le = LabelEncoder ()\n",
    "# Encode categorical variables\n",
    "le = LabelEncoder ()\n",
    "d_train[\"Nom\"]=le.fit_transform(d_train[\"Nom\"])\n",
    "d_train[\"Serie,x\"]=le.fit_transform(d_train[\"Serie,x\"])\n",
    "d_train[\"GroupeAnonymat\"] = le.fit_transform(d_train[\"GroupeAnonymat\"])\n",
    "d_train[\"LieuNaissance\"] = le.fit_transform(d_train[\"LieuNaissance\"])\n",
    "d_train[\"Centre\"] = le.fit_transform(d_train[\"Centre\"])\n",
    "d_train[\"Etablissement\"]=le.fit_transform(d_train[\"Etablissement\"])\n",
    "d_train[\"Willaya\"]=le.fit_transform(d_train[\"Willaya\"])\n",
    "d_train[\"moughataa\"] = le.fit_transform(d_train[\"moughataa\"])\n",
    "d_train[\"Decision\"]=le.fit_transform(d_train[\"Decision\"])\n",
    "X_train = d_train.drop(['Decision','Id'], axis=1)\n",
    "y_train = d_train[\"Decision\"]\n"
   ]
  },
  {
   "cell_type": "code",
   "execution_count": 153,
   "id": "e7694ab3",
   "metadata": {},
   "outputs": [
    {
     "data": {
      "text/html": [
       "<div>\n",
       "<style scoped>\n",
       "    .dataframe tbody tr th:only-of-type {\n",
       "        vertical-align: middle;\n",
       "    }\n",
       "\n",
       "    .dataframe tbody tr th {\n",
       "        vertical-align: top;\n",
       "    }\n",
       "\n",
       "    .dataframe thead th {\n",
       "        text-align: right;\n",
       "    }\n",
       "</style>\n",
       "<table border=\"1\" class=\"dataframe\">\n",
       "  <thead>\n",
       "    <tr style=\"text-align: right;\">\n",
       "      <th></th>\n",
       "      <th>Nom</th>\n",
       "      <th>Serie,x</th>\n",
       "      <th>GroupeAnonymat</th>\n",
       "      <th>LieuNaissance</th>\n",
       "      <th>Centre</th>\n",
       "      <th>Etablissement</th>\n",
       "      <th>Willaya</th>\n",
       "      <th>moughataa</th>\n",
       "      <th>Age</th>\n",
       "    </tr>\n",
       "  </thead>\n",
       "  <tbody>\n",
       "    <tr>\n",
       "      <th>0</th>\n",
       "      <td>6656</td>\n",
       "      <td>3</td>\n",
       "      <td>20</td>\n",
       "      <td>66</td>\n",
       "      <td>88</td>\n",
       "      <td>222</td>\n",
       "      <td>10</td>\n",
       "      <td>24</td>\n",
       "      <td>22</td>\n",
       "    </tr>\n",
       "  </tbody>\n",
       "</table>\n",
       "</div>"
      ],
      "text/plain": [
       "    Nom  Serie,x  GroupeAnonymat  LieuNaissance  Centre  Etablissement  \\\n",
       "0  6656        3              20             66      88            222   \n",
       "\n",
       "   Willaya  moughataa  Age  \n",
       "0       10         24   22  "
      ]
     },
     "execution_count": 153,
     "metadata": {},
     "output_type": "execute_result"
    }
   ],
   "source": [
    "X_train.head(1)"
   ]
  },
  {
   "cell_type": "code",
   "execution_count": 154,
   "id": "a03bed96",
   "metadata": {},
   "outputs": [
    {
     "data": {
      "text/plain": [
       "array([0, 1])"
      ]
     },
     "execution_count": 154,
     "metadata": {},
     "output_type": "execute_result"
    }
   ],
   "source": [
    "y_train.unique()"
   ]
  },
  {
   "cell_type": "code",
   "execution_count": 155,
   "id": "b3e52d54",
   "metadata": {},
   "outputs": [],
   "source": [
    "le = LabelEncoder ()\n",
    "# Encode categorical variables\n",
    "le = LabelEncoder ()\n",
    "d_test[\"Nom\"]=le.fit_transform(d_test[\"Nom\"])\n",
    "d_test[\"Serie,x\"]=le.fit_transform(d_test[\"Serie,x\"])\n",
    "d_test[\"GroupeAnonymat\"] = le.fit_transform(d_test[\"GroupeAnonymat\"])\n",
    "d_test[\"LieuNaissance\"] = le.fit_transform(d_test[\"LieuNaissance\"])\n",
    "d_test[\"Centre\"] = le.fit_transform(d_test[\"Centre\"])\n",
    "d_test[\"Etablissement\"]=le.fit_transform(d_test[\"Etablissement\"])\n",
    "d_test[\"Willaya\"]=le.fit_transform(d_test[\"Willaya\"])\n",
    "d_test[\"moughataa\"] = le.fit_transform(d_test[\"moughataa\"])\n",
    "X_test = d_test.drop(['Id'],axis=1)"
   ]
  },
  {
   "cell_type": "code",
   "execution_count": 156,
   "id": "e7401b91",
   "metadata": {},
   "outputs": [
    {
     "data": {
      "text/html": [
       "<div>\n",
       "<style scoped>\n",
       "    .dataframe tbody tr th:only-of-type {\n",
       "        vertical-align: middle;\n",
       "    }\n",
       "\n",
       "    .dataframe tbody tr th {\n",
       "        vertical-align: top;\n",
       "    }\n",
       "\n",
       "    .dataframe thead th {\n",
       "        text-align: right;\n",
       "    }\n",
       "</style>\n",
       "<table border=\"1\" class=\"dataframe\">\n",
       "  <thead>\n",
       "    <tr style=\"text-align: right;\">\n",
       "      <th></th>\n",
       "      <th>Nom</th>\n",
       "      <th>Serie,x</th>\n",
       "      <th>GroupeAnonymat</th>\n",
       "      <th>LieuNaissance</th>\n",
       "      <th>Centre</th>\n",
       "      <th>Etablissement</th>\n",
       "      <th>Willaya</th>\n",
       "      <th>moughataa</th>\n",
       "      <th>Age</th>\n",
       "    </tr>\n",
       "  </thead>\n",
       "  <tbody>\n",
       "    <tr>\n",
       "      <th>0</th>\n",
       "      <td>5195</td>\n",
       "      <td>3</td>\n",
       "      <td>20</td>\n",
       "      <td>405</td>\n",
       "      <td>126</td>\n",
       "      <td>271</td>\n",
       "      <td>6</td>\n",
       "      <td>8</td>\n",
       "      <td>21</td>\n",
       "    </tr>\n",
       "  </tbody>\n",
       "</table>\n",
       "</div>"
      ],
      "text/plain": [
       "    Nom  Serie,x  GroupeAnonymat  LieuNaissance  Centre  Etablissement  \\\n",
       "0  5195        3              20            405     126            271   \n",
       "\n",
       "   Willaya  moughataa  Age  \n",
       "0        6          8   21  "
      ]
     },
     "execution_count": 156,
     "metadata": {},
     "output_type": "execute_result"
    }
   ],
   "source": [
    "X_test.head(1)"
   ]
  },
  {
   "cell_type": "code",
   "execution_count": null,
   "id": "ad2c84d6",
   "metadata": {},
   "outputs": [],
   "source": []
  },
  {
   "cell_type": "markdown",
   "id": "fa8fc3af",
   "metadata": {},
   "source": [
    "# 3.Creation des modeles : "
   ]
  },
  {
   "cell_type": "code",
   "execution_count": null,
   "id": "c8609730",
   "metadata": {},
   "outputs": [],
   "source": []
  },
  {
   "cell_type": "markdown",
   "id": "69b8b5dd",
   "metadata": {},
   "source": [
    "## DecisionTree"
   ]
  },
  {
   "cell_type": "code",
   "execution_count": 248,
   "id": "633708d5",
   "metadata": {},
   "outputs": [
    {
     "data": {
      "text/plain": [
       "array([0., 0., 0., ..., 0., 0., 0.])"
      ]
     },
     "execution_count": 248,
     "metadata": {},
     "output_type": "execute_result"
    }
   ],
   "source": [
    "from sklearn.tree import DecisionTreeClassifier\n",
    "dT = DecisionTreeClassifier()\n",
    "dT.fit(X_train, y_train)\n",
    "probas = dT.predict_proba(X_test)[:,1]\n",
    "probas"
   ]
  },
  {
   "cell_type": "code",
   "execution_count": 249,
   "id": "3c38fc2a",
   "metadata": {},
   "outputs": [
    {
     "name": "stdout",
     "output_type": "stream",
     "text": [
      "AUC (moyenne) : 0.59 (+/- 0.03)\n"
     ]
    }
   ],
   "source": [
    "from sklearn.model_selection import cross_val_score\n",
    "# Définition de la validation croisée avec 5 plis\n",
    "cv = 5\n",
    "# Calcul de la performance du modèle avec la validation croisée\n",
    "scores = cross_val_score(dT,X_train, y_train, cv=cv, scoring='roc_auc')\n",
    "\n",
    "# Affichage de la performance moyenne et de l'écart-type\n",
    "print(\"AUC (moyenne) : %0.2f (+/- %0.2f)\" % (scores.mean(), scores.std() * 2))\n"
   ]
  },
  {
   "cell_type": "code",
   "execution_count": 251,
   "id": "156dcfee",
   "metadata": {},
   "outputs": [],
   "source": [
    "test[\"prediction\"]=probas\n",
    "run=test[[\"Id\",\"prediction\"]]\n",
    "run=run.rename(columns={'prediction': 'Predicted'})\n"
   ]
  },
  {
   "cell_type": "code",
   "execution_count": 252,
   "id": "16d1e6d9",
   "metadata": {},
   "outputs": [],
   "source": [
    "run.to_csv(\"subm3.csv\", index=False)"
   ]
  },
  {
   "cell_type": "code",
   "execution_count": null,
   "id": "4dd73c1e",
   "metadata": {},
   "outputs": [],
   "source": []
  },
  {
   "cell_type": "markdown",
   "id": "abe85ccd",
   "metadata": {},
   "source": [
    "## LogisticRegression"
   ]
  },
  {
   "cell_type": "code",
   "execution_count": 178,
   "id": "a7b3631b",
   "metadata": {},
   "outputs": [
    {
     "name": "stderr",
     "output_type": "stream",
     "text": [
      "c:\\users\\user\\appdata\\local\\programs\\python\\python37\\lib\\site-packages\\sklearn\\linear_model\\_logistic.py:765: ConvergenceWarning: lbfgs failed to converge (status=1):\n",
      "STOP: TOTAL NO. of ITERATIONS REACHED LIMIT.\n",
      "\n",
      "Increase the number of iterations (max_iter) or scale the data as shown in:\n",
      "    https://scikit-learn.org/stable/modules/preprocessing.html\n",
      "Please also refer to the documentation for alternative solver options:\n",
      "    https://scikit-learn.org/stable/modules/linear_model.html#logistic-regression\n",
      "  extra_warning_msg=_LOGISTIC_SOLVER_CONVERGENCE_MSG)\n"
     ]
    },
    {
     "data": {
      "text/plain": [
       "LogisticRegression()"
      ]
     },
     "execution_count": 178,
     "metadata": {},
     "output_type": "execute_result"
    }
   ],
   "source": [
    "from sklearn.linear_model import LogisticRegression\n",
    "from sklearn.pipeline import make_pipeline\n",
    "from sklearn.preprocessing import StandardScaler\n",
    "\n",
    "#Créer un modèle de régression logistique\n",
    "LogR=LogisticRegression(penalty='l2')\n",
    "\n",
    "#Entraîner le modèle sur les données d'entraînement\n",
    "LogR.fit(X_train, y_train)\n",
    "\n",
    "#les coefficient du modele:\n",
    "#print(model.coef_)\n",
    "\n",
    "#print(model.classes_)\n",
    "\n",
    "\n"
   ]
  },
  {
   "cell_type": "code",
   "execution_count": 180,
   "id": "ddb5815b",
   "metadata": {},
   "outputs": [
    {
     "data": {
      "text/plain": [
       "array([0, 0, 0, ..., 0, 0, 0])"
      ]
     },
     "execution_count": 180,
     "metadata": {},
     "output_type": "execute_result"
    }
   ],
   "source": [
    "#prediction en test :\n",
    "pred=LogR.predict(X_test)\n",
    "pred"
   ]
  },
  {
   "cell_type": "code",
   "execution_count": 182,
   "id": "77f3bf40",
   "metadata": {},
   "outputs": [
    {
     "data": {
      "text/plain": [
       "array([0.03528362, 0.06598631, 0.05386567, ..., 0.08271168, 0.06334535,\n",
       "       0.03183138])"
      ]
     },
     "execution_count": 182,
     "metadata": {},
     "output_type": "execute_result"
    }
   ],
   "source": [
    "#print(pred)\n",
    "probas =LogR.predict_proba(X_test)[:, 1]\n",
    "probas"
   ]
  },
  {
   "cell_type": "code",
   "execution_count": 185,
   "id": "89a036b8",
   "metadata": {},
   "outputs": [
    {
     "name": "stderr",
     "output_type": "stream",
     "text": [
      "c:\\users\\user\\appdata\\local\\programs\\python\\python37\\lib\\site-packages\\sklearn\\linear_model\\_logistic.py:765: ConvergenceWarning: lbfgs failed to converge (status=1):\n",
      "STOP: TOTAL NO. of ITERATIONS REACHED LIMIT.\n",
      "\n",
      "Increase the number of iterations (max_iter) or scale the data as shown in:\n",
      "    https://scikit-learn.org/stable/modules/preprocessing.html\n",
      "Please also refer to the documentation for alternative solver options:\n",
      "    https://scikit-learn.org/stable/modules/linear_model.html#logistic-regression\n",
      "  extra_warning_msg=_LOGISTIC_SOLVER_CONVERGENCE_MSG)\n",
      "c:\\users\\user\\appdata\\local\\programs\\python\\python37\\lib\\site-packages\\sklearn\\linear_model\\_logistic.py:765: ConvergenceWarning: lbfgs failed to converge (status=1):\n",
      "STOP: TOTAL NO. of ITERATIONS REACHED LIMIT.\n",
      "\n",
      "Increase the number of iterations (max_iter) or scale the data as shown in:\n",
      "    https://scikit-learn.org/stable/modules/preprocessing.html\n",
      "Please also refer to the documentation for alternative solver options:\n",
      "    https://scikit-learn.org/stable/modules/linear_model.html#logistic-regression\n",
      "  extra_warning_msg=_LOGISTIC_SOLVER_CONVERGENCE_MSG)\n",
      "c:\\users\\user\\appdata\\local\\programs\\python\\python37\\lib\\site-packages\\sklearn\\linear_model\\_logistic.py:765: ConvergenceWarning: lbfgs failed to converge (status=1):\n",
      "STOP: TOTAL NO. of ITERATIONS REACHED LIMIT.\n",
      "\n",
      "Increase the number of iterations (max_iter) or scale the data as shown in:\n",
      "    https://scikit-learn.org/stable/modules/preprocessing.html\n",
      "Please also refer to the documentation for alternative solver options:\n",
      "    https://scikit-learn.org/stable/modules/linear_model.html#logistic-regression\n",
      "  extra_warning_msg=_LOGISTIC_SOLVER_CONVERGENCE_MSG)\n",
      "c:\\users\\user\\appdata\\local\\programs\\python\\python37\\lib\\site-packages\\sklearn\\linear_model\\_logistic.py:765: ConvergenceWarning: lbfgs failed to converge (status=1):\n",
      "STOP: TOTAL NO. of ITERATIONS REACHED LIMIT.\n",
      "\n",
      "Increase the number of iterations (max_iter) or scale the data as shown in:\n",
      "    https://scikit-learn.org/stable/modules/preprocessing.html\n",
      "Please also refer to the documentation for alternative solver options:\n",
      "    https://scikit-learn.org/stable/modules/linear_model.html#logistic-regression\n",
      "  extra_warning_msg=_LOGISTIC_SOLVER_CONVERGENCE_MSG)\n"
     ]
    },
    {
     "name": "stdout",
     "output_type": "stream",
     "text": [
      "AUC (moyenne) : 0.69 (+/- 0.03)\n"
     ]
    },
    {
     "name": "stderr",
     "output_type": "stream",
     "text": [
      "c:\\users\\user\\appdata\\local\\programs\\python\\python37\\lib\\site-packages\\sklearn\\linear_model\\_logistic.py:765: ConvergenceWarning: lbfgs failed to converge (status=1):\n",
      "STOP: TOTAL NO. of ITERATIONS REACHED LIMIT.\n",
      "\n",
      "Increase the number of iterations (max_iter) or scale the data as shown in:\n",
      "    https://scikit-learn.org/stable/modules/preprocessing.html\n",
      "Please also refer to the documentation for alternative solver options:\n",
      "    https://scikit-learn.org/stable/modules/linear_model.html#logistic-regression\n",
      "  extra_warning_msg=_LOGISTIC_SOLVER_CONVERGENCE_MSG)\n"
     ]
    }
   ],
   "source": [
    "from sklearn.model_selection import cross_val_score\n",
    "# Définition de la validation croisée avec 5 plis\n",
    "cv = 5\n",
    "# Calcul de la performance du modèle avec la validation croisée\n",
    "scores = cross_val_score(LogR,X_train, y_train, cv=cv, scoring='roc_auc')\n",
    "\n",
    "# Affichage de la performance moyenne et de l'écart-type\n",
    "print(\"AUC (moyenne) : %0.2f (+/- %0.2f)\" % (scores.mean(), scores.std() * 2))\n"
   ]
  },
  {
   "cell_type": "markdown",
   "id": "e43dc10a",
   "metadata": {},
   "source": [
    "# TESST "
   ]
  },
  {
   "cell_type": "code",
   "execution_count": 194,
   "id": "5dce54c2",
   "metadata": {},
   "outputs": [
    {
     "name": "stderr",
     "output_type": "stream",
     "text": [
      "c:\\users\\user\\appdata\\local\\programs\\python\\python37\\lib\\site-packages\\sklearn\\linear_model\\_logistic.py:765: ConvergenceWarning: lbfgs failed to converge (status=1):\n",
      "STOP: TOTAL NO. of ITERATIONS REACHED LIMIT.\n",
      "\n",
      "Increase the number of iterations (max_iter) or scale the data as shown in:\n",
      "    https://scikit-learn.org/stable/modules/preprocessing.html\n",
      "Please also refer to the documentation for alternative solver options:\n",
      "    https://scikit-learn.org/stable/modules/linear_model.html#logistic-regression\n",
      "  extra_warning_msg=_LOGISTIC_SOLVER_CONVERGENCE_MSG)\n"
     ]
    },
    {
     "data": {
      "text/plain": [
       "array([0.03528362, 0.06598631, 0.05386567, ..., 0.08271168, 0.06334535,\n",
       "       0.03183138])"
      ]
     },
     "execution_count": 194,
     "metadata": {},
     "output_type": "execute_result"
    }
   ],
   "source": [
    "from sklearn.linear_model import LogisticRegression\n",
    "from sklearn.pipeline import make_pipeline\n",
    "from sklearn.preprocessing import StandardScaler\n",
    "#Créer un modèle de régression logistique\n",
    "model = LogisticRegression(penalty='l2')\n",
    "# # # Entraîner le modèle sur les données d'entraînement\n",
    "model.fit(X_train, y_train)\n",
    "#les coefficient du modele:\n",
    "#print(model.coef_)\n",
    "#print(model.classes_)\n",
    "#prediction en test :\n",
    "pred=model.predict(X_test)\n",
    "#print(pred)\n",
    "probas = model.predict_proba(X_test)[:, 1]\n",
    "probas"
   ]
  },
  {
   "cell_type": "code",
   "execution_count": 195,
   "id": "e572d2d5",
   "metadata": {},
   "outputs": [
    {
     "name": "stderr",
     "output_type": "stream",
     "text": [
      "c:\\users\\user\\appdata\\local\\programs\\python\\python37\\lib\\site-packages\\sklearn\\linear_model\\_logistic.py:765: ConvergenceWarning: lbfgs failed to converge (status=1):\n",
      "STOP: TOTAL NO. of ITERATIONS REACHED LIMIT.\n",
      "\n",
      "Increase the number of iterations (max_iter) or scale the data as shown in:\n",
      "    https://scikit-learn.org/stable/modules/preprocessing.html\n",
      "Please also refer to the documentation for alternative solver options:\n",
      "    https://scikit-learn.org/stable/modules/linear_model.html#logistic-regression\n",
      "  extra_warning_msg=_LOGISTIC_SOLVER_CONVERGENCE_MSG)\n",
      "c:\\users\\user\\appdata\\local\\programs\\python\\python37\\lib\\site-packages\\sklearn\\linear_model\\_logistic.py:765: ConvergenceWarning: lbfgs failed to converge (status=1):\n",
      "STOP: TOTAL NO. of ITERATIONS REACHED LIMIT.\n",
      "\n",
      "Increase the number of iterations (max_iter) or scale the data as shown in:\n",
      "    https://scikit-learn.org/stable/modules/preprocessing.html\n",
      "Please also refer to the documentation for alternative solver options:\n",
      "    https://scikit-learn.org/stable/modules/linear_model.html#logistic-regression\n",
      "  extra_warning_msg=_LOGISTIC_SOLVER_CONVERGENCE_MSG)\n",
      "c:\\users\\user\\appdata\\local\\programs\\python\\python37\\lib\\site-packages\\sklearn\\linear_model\\_logistic.py:765: ConvergenceWarning: lbfgs failed to converge (status=1):\n",
      "STOP: TOTAL NO. of ITERATIONS REACHED LIMIT.\n",
      "\n",
      "Increase the number of iterations (max_iter) or scale the data as shown in:\n",
      "    https://scikit-learn.org/stable/modules/preprocessing.html\n",
      "Please also refer to the documentation for alternative solver options:\n",
      "    https://scikit-learn.org/stable/modules/linear_model.html#logistic-regression\n",
      "  extra_warning_msg=_LOGISTIC_SOLVER_CONVERGENCE_MSG)\n",
      "c:\\users\\user\\appdata\\local\\programs\\python\\python37\\lib\\site-packages\\sklearn\\linear_model\\_logistic.py:765: ConvergenceWarning: lbfgs failed to converge (status=1):\n",
      "STOP: TOTAL NO. of ITERATIONS REACHED LIMIT.\n",
      "\n",
      "Increase the number of iterations (max_iter) or scale the data as shown in:\n",
      "    https://scikit-learn.org/stable/modules/preprocessing.html\n",
      "Please also refer to the documentation for alternative solver options:\n",
      "    https://scikit-learn.org/stable/modules/linear_model.html#logistic-regression\n",
      "  extra_warning_msg=_LOGISTIC_SOLVER_CONVERGENCE_MSG)\n",
      "c:\\users\\user\\appdata\\local\\programs\\python\\python37\\lib\\site-packages\\sklearn\\linear_model\\_logistic.py:765: ConvergenceWarning: lbfgs failed to converge (status=1):\n",
      "STOP: TOTAL NO. of ITERATIONS REACHED LIMIT.\n",
      "\n",
      "Increase the number of iterations (max_iter) or scale the data as shown in:\n",
      "    https://scikit-learn.org/stable/modules/preprocessing.html\n",
      "Please also refer to the documentation for alternative solver options:\n",
      "    https://scikit-learn.org/stable/modules/linear_model.html#logistic-regression\n",
      "  extra_warning_msg=_LOGISTIC_SOLVER_CONVERGENCE_MSG)\n"
     ]
    },
    {
     "name": "stdout",
     "output_type": "stream",
     "text": [
      "AUC (moyenne) : 0.69 (+/- 0.03)\n"
     ]
    }
   ],
   "source": [
    "from sklearn.model_selection import cross_val_score\n",
    "# Définition de la validation croisée avec 5 plis\n",
    "cv = 5\n",
    "# Calcul de la performance du modèle avec la validation croisée\n",
    "scores = cross_val_score(model,X_train, y_train, cv=cv, scoring='roc_auc')\n",
    "\n",
    "# Affichage de la performance moyenne et de l'écart-type\n",
    "print(\"AUC (moyenne) : %0.2f (+/- %0.2f)\" % (scores.mean(), scores.std() * 2))\n"
   ]
  },
  {
   "cell_type": "code",
   "execution_count": 196,
   "id": "b551c537",
   "metadata": {},
   "outputs": [],
   "source": [
    "test[\"prediction\"]=probas\n",
    "run=test[[\"Id\",\"prediction\"]]\n",
    "run=run.rename(columns={'prediction': 'Predicted'})"
   ]
  },
  {
   "cell_type": "code",
   "execution_count": 197,
   "id": "cba0fb47",
   "metadata": {},
   "outputs": [],
   "source": [
    "run.to_csv(\"subm8.csv_\", index=False)"
   ]
  },
  {
   "cell_type": "markdown",
   "id": "f9216c97",
   "metadata": {},
   "source": [
    "## Test "
   ]
  },
  {
   "cell_type": "code",
   "execution_count": 237,
   "id": "6cbdfb39",
   "metadata": {},
   "outputs": [
    {
     "name": "stderr",
     "output_type": "stream",
     "text": [
      "c:\\users\\user\\appdata\\local\\programs\\python\\python37\\lib\\site-packages\\sklearn\\linear_model\\_logistic.py:765: ConvergenceWarning: lbfgs failed to converge (status=1):\n",
      "STOP: TOTAL NO. of ITERATIONS REACHED LIMIT.\n",
      "\n",
      "Increase the number of iterations (max_iter) or scale the data as shown in:\n",
      "    https://scikit-learn.org/stable/modules/preprocessing.html\n",
      "Please also refer to the documentation for alternative solver options:\n",
      "    https://scikit-learn.org/stable/modules/linear_model.html#logistic-regression\n",
      "  extra_warning_msg=_LOGISTIC_SOLVER_CONVERGENCE_MSG)\n"
     ]
    },
    {
     "data": {
      "text/plain": [
       "array([0.03528362, 0.06598631, 0.05386567, ..., 0.08271168, 0.06334535,\n",
       "       0.03183138])"
      ]
     },
     "execution_count": 237,
     "metadata": {},
     "output_type": "execute_result"
    }
   ],
   "source": [
    "from sklearn.linear_model import LogisticRegression\n",
    "from sklearn.pipeline import make_pipeline\n",
    "from sklearn.preprocessing import StandardScaler\n",
    "#Créer un modèle de régression logistique\n",
    "model = LogisticRegression(penalty='l2')\n",
    "# # # Entraîner le modèle sur les données d'entraînement\n",
    "model.fit(X_train, y_train)\n",
    "#les coefficient du modele:\n",
    "#print(model.coef_)\n",
    "#print(model.classes_)\n",
    "#prediction en test :\n",
    "pred=model.predict(X_test)\n",
    "#print(pred)\n",
    "probas = model.predict_proba(X_test)[:, 1]\n",
    "probas"
   ]
  },
  {
   "cell_type": "code",
   "execution_count": 238,
   "id": "c1b56338",
   "metadata": {},
   "outputs": [],
   "source": [
    "test[\"predction\"]=probas\n",
    "run=test[[\"Id\",\"predction\"]]\n",
    "run=run.rename(columns={'predction': 'Predicted'})"
   ]
  },
  {
   "cell_type": "code",
   "execution_count": 240,
   "id": "cdde44f0",
   "metadata": {},
   "outputs": [],
   "source": [
    "# Exporter la dataframe vers un fichier CSV\n",
    "run.to_csv(\"subm11.csv_\", index=False)"
   ]
  },
  {
   "cell_type": "code",
   "execution_count": null,
   "id": "831bde4f",
   "metadata": {},
   "outputs": [],
   "source": []
  },
  {
   "cell_type": "markdown",
   "id": "e41e0564",
   "metadata": {},
   "source": [
    "## SVM"
   ]
  },
  {
   "cell_type": "code",
   "execution_count": null,
   "id": "dd6d09fb",
   "metadata": {},
   "outputs": [],
   "source": []
  },
  {
   "cell_type": "code",
   "execution_count": 198,
   "id": "1e69b042",
   "metadata": {},
   "outputs": [],
   "source": [
    "from sklearn.svm import SVC\n",
    "clf = SVC(probability=True)\n",
    "\n",
    "# Adapter le modèle aux données d'apprentissage\n",
    "clf.fit(X_train, y_train)\n",
    "\n",
    "# Prédire la probabilité de réussite de l'examen pour les données de test\n",
    "probas = clf.predict_proba(X_test)[:, 1]"
   ]
  },
  {
   "cell_type": "code",
   "execution_count": 199,
   "id": "dc31a75d",
   "metadata": {},
   "outputs": [
    {
     "name": "stdout",
     "output_type": "stream",
     "text": [
      "AUC (moyenne) : 0.51 (+/- 0.03)\n"
     ]
    }
   ],
   "source": [
    "from sklearn.model_selection import cross_val_score\n",
    "# Définition de la validation croisée avec 5 plis\n",
    "cv = 5\n",
    "# Calcul de la performance du modèle avec la validation croisée\n",
    "scores = cross_val_score(clf,X_train, y_train, cv=cv, scoring='roc_auc')\n",
    "\n",
    "# Affichage de la performance moyenne et de l'écart-type\n",
    "print(\"AUC (moyenne) : %0.2f (+/- %0.2f)\" % (scores.mean(), scores.std() * 2))\n"
   ]
  },
  {
   "cell_type": "code",
   "execution_count": 201,
   "id": "93c08933",
   "metadata": {},
   "outputs": [],
   "source": [
    "test[\"prediction2\"]=probas\n",
    "run=test[[\"Id\",\"prediction2\"]]\n",
    "run=run.rename(columns={'prediction2': 'Predicted'})"
   ]
  },
  {
   "cell_type": "code",
   "execution_count": 202,
   "id": "08fc42b4",
   "metadata": {},
   "outputs": [],
   "source": [
    "# Exporter la dataframe vers un fichier CSV\n",
    "run.to_csv(\"subm9.csv_\", index=False)"
   ]
  },
  {
   "cell_type": "code",
   "execution_count": null,
   "id": "9a4616fc",
   "metadata": {},
   "outputs": [],
   "source": []
  },
  {
   "cell_type": "code",
   "execution_count": null,
   "id": "a2e63e54",
   "metadata": {},
   "outputs": [],
   "source": []
  },
  {
   "cell_type": "markdown",
   "id": "adcf3cd3",
   "metadata": {},
   "source": [
    "## xgboost"
   ]
  },
  {
   "cell_type": "code",
   "execution_count": 207,
   "id": "baf6d5fb",
   "metadata": {},
   "outputs": [
    {
     "data": {
      "text/plain": [
       "array([0.01914249, 0.13182545, 0.04730877, ..., 0.06479222, 0.0419405 ,\n",
       "       0.00443492], dtype=float32)"
      ]
     },
     "execution_count": 207,
     "metadata": {},
     "output_type": "execute_result"
    }
   ],
   "source": [
    "from sklearn.model_selection import cross_val_score\n",
    "import xgboost as xgb\n",
    "\n",
    "# Instanciation du modèle de Gradient Boosting\n",
    "gbm = xgb.XGBClassifier()\n",
    "\n",
    "# Entraînement du modèle sur l'ensemble de données complet\n",
    "gbm.fit(X_train, y_train)\n",
    "\n",
    "\n",
    "# Calcul des probabilités pour chaque classe\n",
    "probas=gbm.predict_proba(X_test)[:, 1]\n",
    "\n",
    "# Affichage des probabilités pour la classe \"réussite\"\n",
    "# proba_reussite = proba[:, 1]\n",
    "probas"
   ]
  },
  {
   "cell_type": "code",
   "execution_count": 208,
   "id": "47d0c09d",
   "metadata": {},
   "outputs": [
    {
     "name": "stdout",
     "output_type": "stream",
     "text": [
      "AUC (moyenne) : 0.77 (+/- 0.03)\n"
     ]
    }
   ],
   "source": [
    "# Définition de la validation croisée avec 5 plis\n",
    "cv = 5\n",
    "# Calcul de la performance du modèle avec la validation croisée\n",
    "scores = cross_val_score(gbm, X_train, y_train, cv=cv, scoring='roc_auc')\n",
    "\n",
    "# Affichage de la performance moyenne et de l'écart-type\n",
    "print(\"AUC (moyenne) : %0.2f (+/- %0.2f)\" % (scores.mean(), scores.std() * 2))\n"
   ]
  },
  {
   "cell_type": "code",
   "execution_count": 209,
   "id": "7d651b85",
   "metadata": {},
   "outputs": [],
   "source": [
    "test[\"predictio\"]=probas\n",
    "run2=test[[\"Id\",\"predictio\"]]\n",
    "run2=run2.rename(columns={'predictio': 'Predicted'})"
   ]
  },
  {
   "cell_type": "code",
   "execution_count": 210,
   "id": "0d1515b4",
   "metadata": {},
   "outputs": [],
   "source": [
    "# Exporter la dataframe vers un fichier CSV\n",
    "run2.to_csv(\"soumission21.csv_\", index=False)"
   ]
  },
  {
   "cell_type": "markdown",
   "id": "913bae32",
   "metadata": {},
   "source": [
    "## Tesst"
   ]
  },
  {
   "cell_type": "code",
   "execution_count": 233,
   "id": "56d88bfa",
   "metadata": {},
   "outputs": [],
   "source": [
    "import xgboost as xgb\n",
    "# Création de l'estimateur XGBoost\n",
    "xgb_estimator = xgb.XGBClassifier()\n",
    "\n",
    "# Apprentissage du modèle sur les données de formation\n",
    "xgb_estimator.fit(X_train, y_train)\n",
    "\n",
    "# Prédiction sur les données de test\n",
    "probas = xgb_estimator.predict_proba(X_test)[:, 1]"
   ]
  },
  {
   "cell_type": "code",
   "execution_count": 234,
   "id": "182a7c64",
   "metadata": {},
   "outputs": [],
   "source": [
    "test[\"pred\"]=probas\n",
    "run2=test[[\"Id\",\"pred\"]]\n",
    "run2=run2.rename(columns={'pred': 'Predicted'})"
   ]
  },
  {
   "cell_type": "code",
   "execution_count": 236,
   "id": "da02ed74",
   "metadata": {},
   "outputs": [],
   "source": [
    "# Exporter la dataframe vers un fichier CSV\n",
    "run2.to_csv(\"subm12.csv_\", index=False)"
   ]
  },
  {
   "cell_type": "markdown",
   "id": "a71e041e",
   "metadata": {},
   "source": [
    "## Test"
   ]
  },
  {
   "cell_type": "code",
   "execution_count": 254,
   "id": "83dcd0a3",
   "metadata": {},
   "outputs": [],
   "source": [
    "import xgboost as xgb\n",
    "# Création de l'estimateur XGBoost\n",
    "xgb_estimator = xgb.XGBClassifier()\n",
    "\n",
    "# Apprentissage du modèle sur les données de formation\n",
    "xgb_estimator.fit(X_train, y_train)\n",
    "\n",
    "# Prédiction sur les données de test\n",
    "probs = xgb_estimator.predict_proba(X_test)[:, 1]"
   ]
  },
  {
   "cell_type": "code",
   "execution_count": 255,
   "id": "c3815406",
   "metadata": {},
   "outputs": [],
   "source": [
    "test[\"prd\"]=probas\n",
    "run2=test[[\"Id\",\"prd\"]]\n",
    "run2=run2.rename(columns={'prd': 'Predicted'})"
   ]
  },
  {
   "cell_type": "code",
   "execution_count": 256,
   "id": "51fa2b21",
   "metadata": {},
   "outputs": [],
   "source": [
    "run2.to_csv(\"subm4.csv_\", index=False)"
   ]
  },
  {
   "cell_type": "markdown",
   "id": "543e35c0",
   "metadata": {},
   "source": [
    "## Test "
   ]
  },
  {
   "cell_type": "code",
   "execution_count": 257,
   "id": "d4d7af96",
   "metadata": {},
   "outputs": [
    {
     "data": {
      "text/plain": [
       "array([0.01914249, 0.13182545, 0.04730877, ..., 0.06479222, 0.0419405 ,\n",
       "       0.00443492], dtype=float32)"
      ]
     },
     "execution_count": 257,
     "metadata": {},
     "output_type": "execute_result"
    }
   ],
   "source": [
    "from sklearn.model_selection import cross_val_score\n",
    "import xgboost as xgb\n",
    "\n",
    "# Instanciation du modèle de Gradient Boosting\n",
    "gbm = xgb.XGBClassifier()\n",
    "\n",
    "# Entraînement du modèle sur l'ensemble de données complet\n",
    "gbm.fit(X_train, y_train)\n",
    "\n",
    "\n",
    "# Calcul des probabilités pour chaque classe\n",
    "probas=gbm.predict_proba(X_test)[:, 1]\n",
    "\n",
    "# Affichage des probabilités pour la classe \"réussite\"\n",
    "# proba_reussite = proba[:, 1]\n",
    "probas"
   ]
  },
  {
   "cell_type": "code",
   "execution_count": 259,
   "id": "0d489c52",
   "metadata": {},
   "outputs": [],
   "source": [
    "# Définition de la validation croisée avec 5 plis\n",
    "cv = 5\n",
    "# Calcul de la performance du modèle avec la validation croisée\n",
    "scores = cross_val_score(gbm, X_train, y_train, cv=cv, scoring='roc_auc')\n",
    "\n",
    "# Affichage de la performance moyenne et de l'écart-type\n",
    "#print(\"AUC (moyenne) : %0.2f (+/- %0.2f)\" % (scores.mean(), scores.std() * 2))\n"
   ]
  },
  {
   "cell_type": "code",
   "execution_count": 260,
   "id": "8da65084",
   "metadata": {},
   "outputs": [],
   "source": [
    "test[\"pd\"]=probas\n",
    "run2=test[[\"Id\",\"pd\"]]\n",
    "run2=run2.rename(columns={'pd': 'Predicted'})"
   ]
  },
  {
   "cell_type": "code",
   "execution_count": 261,
   "id": "276b2fc5",
   "metadata": {},
   "outputs": [],
   "source": [
    "run2.to_csv(\"soumissions1.csv_\", index=False)"
   ]
  },
  {
   "cell_type": "markdown",
   "id": "824b9836",
   "metadata": {},
   "source": [
    "## THE SECOND : Score Kaglle 0.76519"
   ]
  },
  {
   "cell_type": "markdown",
   "id": "abdcd58e",
   "metadata": {},
   "source": [
    "## Tesst"
   ]
  },
  {
   "cell_type": "code",
   "execution_count": 262,
   "id": "8b8430ca",
   "metadata": {},
   "outputs": [
    {
     "data": {
      "text/plain": [
       "array([0.01914249, 0.13182545, 0.04730877, ..., 0.06479222, 0.0419405 ,\n",
       "       0.00443492], dtype=float32)"
      ]
     },
     "execution_count": 262,
     "metadata": {},
     "output_type": "execute_result"
    }
   ],
   "source": [
    "from sklearn.model_selection import cross_val_score\n",
    "import xgboost as xgb\n",
    "\n",
    "# Instanciation du modèle de Gradient Boosting\n",
    "gbm = xgb.XGBClassifier()\n",
    "\n",
    "# Entraînement du modèle sur l'ensemble de données complet\n",
    "gbm.fit(X_train, y_train)\n",
    "\n",
    "\n",
    "# Calcul des probabilités pour chaque classe\n",
    "probas=gbm.predict_proba(X_test)[:, 1]\n",
    "\n",
    "# Affichage des probabilités pour la classe \"réussite\"\n",
    "# proba_reussite = proba[:, 1]\n",
    "probas"
   ]
  },
  {
   "cell_type": "code",
   "execution_count": 264,
   "id": "ef6f6d8a",
   "metadata": {},
   "outputs": [
    {
     "name": "stdout",
     "output_type": "stream",
     "text": [
      "AUC (moyenne) : 0.77 (+/- 0.03)\n"
     ]
    }
   ],
   "source": [
    "# Définition de la validation croisée avec 5 plis\n",
    "cv = 5\n",
    "# Calcul de la performance du modèle avec la validation croisée\n",
    "scores = cross_val_score(gbm, X_train, y_train, cv=cv, scoring='roc_auc')\n",
    "\n",
    "# Affichage de la performance moyenne et de l'écart-type\n",
    "print(\"AUC (moyenne) : %0.2f (+/- %0.2f)\" % (scores.mean(), scores.std() * 2))\n"
   ]
  },
  {
   "cell_type": "code",
   "execution_count": 265,
   "id": "41f56dbd",
   "metadata": {},
   "outputs": [],
   "source": [
    "test[\"prediction\"]=probas\n",
    "run=test[[\"Id\",\"prediction\"]]\n",
    "run=run.rename(columns={'Prediction': 'Predicted'})\n",
    "# Charger la dataframe depuis un fichier ou en créer une nouvelle\n",
    "# Exporter la dataframe vers un fichier CSV\n",
    "run.to_csv(\"soum20.csv\", index=False)"
   ]
  },
  {
   "cell_type": "code",
   "execution_count": null,
   "id": "43d94778",
   "metadata": {},
   "outputs": [],
   "source": []
  },
  {
   "cell_type": "code",
   "execution_count": null,
   "id": "405ccf8a",
   "metadata": {},
   "outputs": [],
   "source": []
  },
  {
   "cell_type": "code",
   "execution_count": null,
   "id": "fb538d81",
   "metadata": {},
   "outputs": [],
   "source": []
  },
  {
   "cell_type": "code",
   "execution_count": null,
   "id": "c574bc7c",
   "metadata": {},
   "outputs": [],
   "source": []
  },
  {
   "cell_type": "code",
   "execution_count": null,
   "id": "e9664337",
   "metadata": {},
   "outputs": [],
   "source": []
  },
  {
   "cell_type": "code",
   "execution_count": null,
   "id": "8d65a7ee",
   "metadata": {},
   "outputs": [],
   "source": []
  },
  {
   "cell_type": "code",
   "execution_count": null,
   "id": "d8fc84ff",
   "metadata": {},
   "outputs": [],
   "source": []
  },
  {
   "cell_type": "markdown",
   "id": "24b003ac",
   "metadata": {},
   "source": [
    "## RandomForest"
   ]
  },
  {
   "cell_type": "code",
   "execution_count": 211,
   "id": "a215961c",
   "metadata": {},
   "outputs": [
    {
     "data": {
      "text/plain": [
       "array([0.01417137, 0.04114221, 0.03777325, ..., 0.05485196, 0.12691144,\n",
       "       0.01858784])"
      ]
     },
     "execution_count": 211,
     "metadata": {},
     "output_type": "execute_result"
    }
   ],
   "source": [
    "from sklearn.ensemble import RandomForestClassifier\n",
    "# Construction du modèle de forêt aléatoire\n",
    "clf = RandomForestClassifier(n_estimators=100, max_depth=10, random_state=0)\n",
    "clf.fit(X_train, y_train)\n",
    "\n",
    "# Prédiction de la probabilité de réussite sur l'ensemble de test\n",
    "probas = clf.predict_proba(X_test)[:,1]\n",
    "probas"
   ]
  },
  {
   "cell_type": "code",
   "execution_count": 266,
   "id": "8f6c7fc8",
   "metadata": {},
   "outputs": [],
   "source": [
    "# Définition de la validation croisée avec 5 plis\n",
    "cv = 5\n",
    "# Calcul de la performance du modèle avec la validation croisée\n",
    "scores = cross_val_score(clf, X_train, y_train, cv=cv, scoring='roc_auc')\n",
    "\n",
    "# Affichage de la performance moyenne et de l'écart-type\n",
    "#print(\"AUC (moyenne) : %0.2f (+/- %0.2f)\" % (scores.mean(), scores.std() * 2))\n"
   ]
  },
  {
   "cell_type": "code",
   "execution_count": null,
   "id": "1827c917",
   "metadata": {},
   "outputs": [],
   "source": []
  },
  {
   "cell_type": "markdown",
   "id": "f01fdebf",
   "metadata": {},
   "source": [
    "# THE BEST ONE : SCORE Kaglle 0.83321"
   ]
  },
  {
   "cell_type": "markdown",
   "id": "1ef00ee9",
   "metadata": {},
   "source": [
    "## Test"
   ]
  },
  {
   "cell_type": "code",
   "execution_count": 205,
   "id": "132ae6c8",
   "metadata": {},
   "outputs": [],
   "source": [
    "from sklearn.ensemble import RandomForestClassifier\n",
    "# Construction du modèle de forêt aléatoire\n",
    "clf = RandomForestClassifier(n_estimators=100, max_depth=10, random_state=0)\n",
    "clf.fit(X_train, y_train)\n",
    "\n",
    "# Prédiction de la probabilité de réussite sur l'ensemble de test\n",
    "probas = clf.predict_proba(X_test)[:,1]"
   ]
  },
  {
   "cell_type": "code",
   "execution_count": 212,
   "id": "577f9457",
   "metadata": {},
   "outputs": [
    {
     "name": "stdout",
     "output_type": "stream",
     "text": [
      "AUC (moyenne) : 0.79 (+/- 0.03)\n"
     ]
    }
   ],
   "source": [
    "# Définition de la validation croisée avec 5 plis\n",
    "cv = 5\n",
    "# Calcul de la performance du modèle avec la validation croisée\n",
    "scores = cross_val_score(clf, X_train,y_train, cv=cv, scoring='roc_auc')\n",
    "\n",
    "# Affichage de la performance moyenne et de l'écart-type\n",
    "print(\"AUC (moyenne) : %0.2f (+/- %0.2f)\" % (scores.mean(), scores.std() * 2))\n"
   ]
  },
  {
   "cell_type": "code",
   "execution_count": 213,
   "id": "26ee9a0b",
   "metadata": {},
   "outputs": [],
   "source": [
    "test[\"predico\"]=probas\n",
    "run3=test[[\"Id\",\"predico\"]]\n",
    "run3=run3.rename(columns={'predico': 'Predicted'})"
   ]
  },
  {
   "cell_type": "code",
   "execution_count": 214,
   "id": "c98ec30a",
   "metadata": {},
   "outputs": [],
   "source": [
    "# Exporter la dataframe vers un fichier CSV\n",
    "run3.to_csv(\"soumission22.csv\", index=False)"
   ]
  },
  {
   "cell_type": "code",
   "execution_count": null,
   "id": "4cd6c4f3",
   "metadata": {},
   "outputs": [],
   "source": []
  },
  {
   "cell_type": "markdown",
   "id": "0195a4af",
   "metadata": {},
   "source": [
    "## naive_bayes"
   ]
  },
  {
   "cell_type": "code",
   "execution_count": 215,
   "id": "2d1b11d5",
   "metadata": {},
   "outputs": [],
   "source": [
    "from sklearn.naive_bayes import GaussianNB\n",
    "# Entrainement du modèle\n",
    "model = GaussianNB()\n",
    "model.fit(X_train, y_train)\n",
    "\n",
    "# Prédictions et calcul de la probabilité\n",
    "y_pred = model.predict(X_test)\n",
    "\n",
    "probas = model.predict_proba(X_test)[:, 1]"
   ]
  },
  {
   "cell_type": "code",
   "execution_count": 216,
   "id": "08d9c909",
   "metadata": {},
   "outputs": [
    {
     "name": "stdout",
     "output_type": "stream",
     "text": [
      "AUC (moyenne) : 0.70 (+/- 0.01)\n"
     ]
    }
   ],
   "source": [
    "# Définition de la validation croisée avec 5 plis\n",
    "cv = 5\n",
    "# Calcul de la performance du modèle avec la validation croisée\n",
    "scores = cross_val_score(model , X_train, y_train, cv=cv, scoring='roc_auc')\n",
    "\n",
    "# Affichage de la performance moyenne et de l'écart-type\n",
    "print(\"AUC (moyenne) : %0.2f (+/- %0.2f)\" % (scores.mean(), scores.std() * 2))\n"
   ]
  },
  {
   "cell_type": "code",
   "execution_count": 217,
   "id": "01270b54",
   "metadata": {},
   "outputs": [],
   "source": [
    "from sklearn.naive_bayes import MultinomialNB\n",
    "# Entrainement du modèle\n",
    "model = MultinomialNB()\n",
    "model.fit(X_train,y_train)\n",
    "probas = model.predict_proba(X_test)[:, 1]"
   ]
  },
  {
   "cell_type": "code",
   "execution_count": 218,
   "id": "c59d9e15",
   "metadata": {},
   "outputs": [
    {
     "name": "stdout",
     "output_type": "stream",
     "text": [
      "AUC (moyenne) : 0.57 (+/- 0.03)\n"
     ]
    }
   ],
   "source": [
    "# Définition de la validation croisée avec 5 plis\n",
    "cv = 5\n",
    "# Calcul de la performance du modèle avec la validation croisée\n",
    "scores = cross_val_score(model , X_train, y_train, cv=cv, scoring='roc_auc')\n",
    "\n",
    "# Affichage de la performance moyenne et de l'écart-type\n",
    "print(\"AUC (moyenne) : %0.2f (+/- %0.2f)\" % (scores.mean(), scores.std() * 2))\n"
   ]
  },
  {
   "cell_type": "code",
   "execution_count": null,
   "id": "785b4f0f",
   "metadata": {},
   "outputs": [],
   "source": []
  },
  {
   "cell_type": "markdown",
   "id": "991eef77",
   "metadata": {},
   "source": [
    "## KNeighbors"
   ]
  },
  {
   "cell_type": "code",
   "execution_count": 228,
   "id": "1ffd51c5",
   "metadata": {},
   "outputs": [
    {
     "data": {
      "text/plain": [
       "array([0. , 0.2, 0. , ..., 0.2, 0. , 0. ])"
      ]
     },
     "execution_count": 228,
     "metadata": {},
     "output_type": "execute_result"
    }
   ],
   "source": [
    "\n",
    "from sklearn.neighbors import KNeighborsClassifier\n",
    "# Instancier le modèle KNN avec k=5\n",
    "model = KNeighborsClassifier(n_neighbors=5)\n",
    "\n",
    "# Entraîner le modèle\n",
    "model.fit(X_train, y_train)\n",
    "\n",
    "# Faire des prédictions sur l'ensemble de test\n",
    "probas = model.predict_proba(X_test)[:, 1]\n",
    "probas"
   ]
  },
  {
   "cell_type": "code",
   "execution_count": 229,
   "id": "43cf71fe",
   "metadata": {},
   "outputs": [
    {
     "name": "stdout",
     "output_type": "stream",
     "text": [
      "AUC (moyenne) : 0.56 (+/- 0.04)\n"
     ]
    }
   ],
   "source": [
    "# Définition de la validation croisée avec 5 plis\n",
    "cv = 5\n",
    "# Calcul de la performance du modèle avec la validation croisée\n",
    "scores = cross_val_score(model , X_train, y_train, cv=cv, scoring='roc_auc')\n",
    "\n",
    "# Affichage de la performance moyenne et de l'écart-type\n",
    "print(\"AUC (moyenne) : %0.2f (+/- %0.2f)\" % (scores.mean(), scores.std() * 2))\n"
   ]
  },
  {
   "cell_type": "code",
   "execution_count": null,
   "id": "c075a021",
   "metadata": {},
   "outputs": [],
   "source": []
  },
  {
   "cell_type": "code",
   "execution_count": 230,
   "id": "d98acc95",
   "metadata": {},
   "outputs": [],
   "source": [
    "test[\"predi\"]=probas\n",
    "run3=test[[\"Id\",\"predi\"]]\n",
    "run3=run3.rename(columns={'predi': 'Predicted'})"
   ]
  },
  {
   "cell_type": "code",
   "execution_count": 231,
   "id": "3f3cd0e0",
   "metadata": {},
   "outputs": [],
   "source": [
    "# Exporter la dataframe vers un fichier CSV\n",
    "run3.to_csv(\"subm10.csv_\", index=False)"
   ]
  },
  {
   "cell_type": "code",
   "execution_count": null,
   "id": "e8c96c9d",
   "metadata": {},
   "outputs": [],
   "source": []
  },
  {
   "cell_type": "markdown",
   "id": "e22dc60b",
   "metadata": {},
   "source": [
    "## Clustering"
   ]
  },
  {
   "cell_type": "code",
   "execution_count": 244,
   "id": "b06c88c6",
   "metadata": {},
   "outputs": [
    {
     "data": {
      "text/plain": [
       "array([0.07676945, 0.08837786, 0.07676945, ..., 0.07676945, 0.08837786,\n",
       "       0.07676945])"
      ]
     },
     "execution_count": 244,
     "metadata": {},
     "output_type": "execute_result"
    }
   ],
   "source": [
    "from sklearn.cluster import KMeans\n",
    "# Application de K-Means pour regrouper les données\n",
    "kmeans = KMeans(n_clusters=2, random_state=42).fit(X_train)\n",
    "\n",
    "# Utilisation des clusters pour prédire la réussite de l'examen du BAC\n",
    "X_train_clusters = kmeans.predict(X_train)\n",
    "X_test_clusters = kmeans.predict(X_test)\n",
    "\n",
    "# Création du modèle de régression logistique\n",
    "lr = LogisticRegression(random_state=42)\n",
    "\n",
    "# Entraînement du modèle sur les données d'entraînement\n",
    "lr.fit(X_train_clusters.reshape(-1, 1), y_train)\n",
    "\n",
    "# Prédiction de la probabilité de réussite de l'examen sur les données de test\n",
    "probas = lr.predict_proba(X_test_clusters.reshape(-1, 1))[:, 1]\n",
    "probas"
   ]
  },
  {
   "cell_type": "code",
   "execution_count": null,
   "id": "d8864b5f",
   "metadata": {},
   "outputs": [],
   "source": []
  },
  {
   "cell_type": "code",
   "execution_count": 245,
   "id": "f30f3d51",
   "metadata": {},
   "outputs": [
    {
     "name": "stderr",
     "output_type": "stream",
     "text": [
      "c:\\users\\user\\appdata\\local\\programs\\python\\python37\\lib\\site-packages\\sklearn\\linear_model\\_logistic.py:765: ConvergenceWarning: lbfgs failed to converge (status=1):\n",
      "STOP: TOTAL NO. of ITERATIONS REACHED LIMIT.\n",
      "\n",
      "Increase the number of iterations (max_iter) or scale the data as shown in:\n",
      "    https://scikit-learn.org/stable/modules/preprocessing.html\n",
      "Please also refer to the documentation for alternative solver options:\n",
      "    https://scikit-learn.org/stable/modules/linear_model.html#logistic-regression\n",
      "  extra_warning_msg=_LOGISTIC_SOLVER_CONVERGENCE_MSG)\n",
      "c:\\users\\user\\appdata\\local\\programs\\python\\python37\\lib\\site-packages\\sklearn\\linear_model\\_logistic.py:765: ConvergenceWarning: lbfgs failed to converge (status=1):\n",
      "STOP: TOTAL NO. of ITERATIONS REACHED LIMIT.\n",
      "\n",
      "Increase the number of iterations (max_iter) or scale the data as shown in:\n",
      "    https://scikit-learn.org/stable/modules/preprocessing.html\n",
      "Please also refer to the documentation for alternative solver options:\n",
      "    https://scikit-learn.org/stable/modules/linear_model.html#logistic-regression\n",
      "  extra_warning_msg=_LOGISTIC_SOLVER_CONVERGENCE_MSG)\n",
      "c:\\users\\user\\appdata\\local\\programs\\python\\python37\\lib\\site-packages\\sklearn\\linear_model\\_logistic.py:765: ConvergenceWarning: lbfgs failed to converge (status=1):\n",
      "STOP: TOTAL NO. of ITERATIONS REACHED LIMIT.\n",
      "\n",
      "Increase the number of iterations (max_iter) or scale the data as shown in:\n",
      "    https://scikit-learn.org/stable/modules/preprocessing.html\n",
      "Please also refer to the documentation for alternative solver options:\n",
      "    https://scikit-learn.org/stable/modules/linear_model.html#logistic-regression\n",
      "  extra_warning_msg=_LOGISTIC_SOLVER_CONVERGENCE_MSG)\n",
      "c:\\users\\user\\appdata\\local\\programs\\python\\python37\\lib\\site-packages\\sklearn\\linear_model\\_logistic.py:765: ConvergenceWarning: lbfgs failed to converge (status=1):\n",
      "STOP: TOTAL NO. of ITERATIONS REACHED LIMIT.\n",
      "\n",
      "Increase the number of iterations (max_iter) or scale the data as shown in:\n",
      "    https://scikit-learn.org/stable/modules/preprocessing.html\n",
      "Please also refer to the documentation for alternative solver options:\n",
      "    https://scikit-learn.org/stable/modules/linear_model.html#logistic-regression\n",
      "  extra_warning_msg=_LOGISTIC_SOLVER_CONVERGENCE_MSG)\n",
      "c:\\users\\user\\appdata\\local\\programs\\python\\python37\\lib\\site-packages\\sklearn\\linear_model\\_logistic.py:765: ConvergenceWarning: lbfgs failed to converge (status=1):\n",
      "STOP: TOTAL NO. of ITERATIONS REACHED LIMIT.\n",
      "\n",
      "Increase the number of iterations (max_iter) or scale the data as shown in:\n",
      "    https://scikit-learn.org/stable/modules/preprocessing.html\n",
      "Please also refer to the documentation for alternative solver options:\n",
      "    https://scikit-learn.org/stable/modules/linear_model.html#logistic-regression\n",
      "  extra_warning_msg=_LOGISTIC_SOLVER_CONVERGENCE_MSG)\n"
     ]
    },
    {
     "name": "stdout",
     "output_type": "stream",
     "text": [
      "AUC (moyenne) : 0.69 (+/- 0.03)\n"
     ]
    }
   ],
   "source": [
    "# Définition de la validation croisée avec 5 plis\n",
    "cv = 5\n",
    "# Calcul de la performance du modèle avec la validation croisée\n",
    "scores = cross_val_score(lr , X_train, y_train, cv=cv, scoring='roc_auc')\n",
    "\n",
    "# Affichage de la performance moyenne et de l'écart-type\n",
    "print(\"AUC (moyenne) : %0.2f (+/- %0.2f)\" % (scores.mean(), scores.std() * 2))\n"
   ]
  },
  {
   "cell_type": "code",
   "execution_count": 246,
   "id": "f4f921b9",
   "metadata": {},
   "outputs": [],
   "source": [
    "test[\"prei\"]=probas\n",
    "run3=test[[\"Id\",\"prei\"]]\n",
    "run3=run3.rename(columns={'prei': 'Predicted'})"
   ]
  },
  {
   "cell_type": "code",
   "execution_count": 247,
   "id": "c5bb5820",
   "metadata": {},
   "outputs": [],
   "source": [
    "import pandas as pd\n",
    "# Charger la dataframe depuis un fichier ou en créer une nouvelle\n",
    "# Exporter la dataframe vers un fichier CSV\n",
    "run3.to_csv(\"subm13.csv_\", index=False)"
   ]
  },
  {
   "cell_type": "code",
   "execution_count": null,
   "id": "a9155135",
   "metadata": {},
   "outputs": [],
   "source": []
  },
  {
   "cell_type": "code",
   "execution_count": 225,
   "id": "fbdb34d2",
   "metadata": {},
   "outputs": [
    {
     "name": "stderr",
     "output_type": "stream",
     "text": [
      "ERROR: Could not find a version that satisfies the requirement tensorflow==2.3.0 (from versions: none)\n",
      "ERROR: No matching distribution found for tensorflow==2.3.0\n"
     ]
    }
   ],
   "source": [
    "#pip install keras\n",
    "!pip install tensorflow==2.3.0"
   ]
  },
  {
   "cell_type": "markdown",
   "id": "630d9c64",
   "metadata": {},
   "source": [
    "## modèle de réseau de neurones"
   ]
  },
  {
   "cell_type": "code",
   "execution_count": null,
   "id": "7c776ae9",
   "metadata": {},
   "outputs": [],
   "source": [
    "from keras.models import Sequential\n",
    "from keras.layers import Dense, Dropout\n",
    "from keras.optimizers import Adam\n",
    "\n",
    "# Construction du modèle de réseau de neurones\n",
    "model = Sequential()\n",
    "model.add(Dense(64, input_shape=(X_train.shape[1],), activation='relu'))\n",
    "model.add(Dropout(0.2))\n",
    "model.add(Dense(32, activation='relu'))\n",
    "model.add(Dropout(0.2))\n",
    "model.add(Dense(1, activation='sigmoid'))\n",
    "\n",
    "# Compilation du modèle\n",
    "model.compile(optimizer=Adam(lr=0.001),\n",
    "              loss='binary_crossentropy',\n",
    "              metrics=['accuracy'])\n",
    "\n",
    "# Entraînement du modèle\n",
    "history = model.fit(X_train, y_train,\n",
    "                    validation_data=(X_test, y_test),\n",
    "                    epochs=50,\n",
    "                    batch_size=32)\n",
    "\n",
    "# Évaluation du modèle\n",
    "score = model.evaluate(X_test, y_test, batch_size=32)\n",
    "print('Test score:', score[0])\n",
    "print('Test accuracy:', score[1])"
   ]
  },
  {
   "cell_type": "code",
   "execution_count": null,
   "id": "6b3754da",
   "metadata": {},
   "outputs": [],
   "source": [
    "probas = model.predict_proba(X_test)"
   ]
  },
  {
   "cell_type": "code",
   "execution_count": null,
   "id": "3ea2a44b",
   "metadata": {},
   "outputs": [],
   "source": []
  }
 ],
 "metadata": {
  "kernelspec": {
   "display_name": "Python 3",
   "language": "python",
   "name": "python3"
  },
  "language_info": {
   "codemirror_mode": {
    "name": "ipython",
    "version": 3
   },
   "file_extension": ".py",
   "mimetype": "text/x-python",
   "name": "python",
   "nbconvert_exporter": "python",
   "pygments_lexer": "ipython3",
   "version": "3.7.4"
  }
 },
 "nbformat": 4,
 "nbformat_minor": 5
}
